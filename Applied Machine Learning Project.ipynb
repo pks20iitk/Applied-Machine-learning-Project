{
 "cells": [
  {
   "cell_type": "markdown",
   "metadata": {},
   "source": [
    "# Problem Statement:\n",
    "\n",
    "\n",
    "Our client is an Insurance company that has provided Health Insurance to its customers now they need your help in building a model to predict whether the policyholders (customers) from past year will also be interested in Vehicle Insurance provided by the company.\n",
    "\n",
    "An insurance policy is an arrangement by which a company undertakes to provide a guarantee of compensation for specified loss, damage, illness, or death in return for the payment of a specified premium. A premium is a sum of money that the customer needs to pay regularly to an insurance company for this guarantee.\n",
    "\n",
    "For example, you may pay a premium of Rs. 5000 each year for a health insurance cover of Rs. 200,000/- so that if, God forbid, you fall ill and need to be hospitalised in that year, the insurance provider company will bear the cost of hospitalisation etc. for upto Rs. 200,000. Now if you are wondering how can company bear such high hospitalisation cost when it charges a premium of only Rs. 5000/-, that is where the concept of probabilities comes in picture. For example, like you, there may be 100 customers who would be paying a premium of Rs. 5000 every year, but only a few of them (say 2-3) would get hospitalised that year and not everyone. This way everyone shares the risk of everyone else.\n",
    "\n",
    "Just like medical insurance, there is vehicle insurance where every year customer needs to pay a premium of certain amount to insurance provider company so that in case of unfortunate accident by the vehicle, the insurance provider company will provide a compensation (called ‘sum assured’) to the customer.\n",
    "\n",
    "Building a model to predict whether a customer would be interested in Vehicle Insurance is extremely helpful for the company because it can then accordingly plan its communication strategy to reach out to those customers and optimise its business model and revenue.\n",
    "\n",
    "Now, in order to predict, whether the customer would be interested in Vehicle insurance, you have information about demographics (gender, age, region code type), Vehicles (Vehicle Age, Damage), Policy (Premium, sourcing channel) etc. </font>\n",
    "\n"
   ]
  },
  {
   "cell_type": "markdown",
   "metadata": {},
   "source": [
    "# Bussiness Goal\n",
    "\n",
    "Building a model to predict whether a customer would be interested in Vehicle Insurance is extremely helpful for the company because it can then accordingly plan its communication strategy to reach out to those customers and optimise its business model and revenue.\n",
    "\n",
    "Now, in order to predict, whether the customer would be interested in Vehicle insurance, you have information about demographics (gender, age, region code type), Vehicles (Vehicle Age, Damage), Policy (Premium, sourcing channel) etc."
   ]
  },
  {
   "cell_type": "markdown",
   "metadata": {},
   "source": [
    "# import important library"
   ]
  },
  {
   "cell_type": "code",
   "execution_count": 1,
   "metadata": {},
   "outputs": [],
   "source": [
    "import numpy as np\n",
    "import pandas as pd\n",
    "import matplotlib.pyplot as plt\n",
    "import seaborn as sns\n",
    "import pandas as pd\n",
    "import plotly.express as px\n",
    "import matplotlib.pyplot as plt\n",
    "import seaborn as sns\n",
    "from imblearn.over_sampling import SMOTE\n",
    "from sklearn.model_selection import train_test_split\n",
    "from sklearn.model_selection import GridSearchCV\n",
    "from sklearn.tree import DecisionTreeClassifier\n",
    "from sklearn.linear_model import LogisticRegression\n",
    "from sklearn.ensemble import RandomForestClassifier,GradientBoostingClassifier,AdaBoostClassifier\n",
    "from xgboost import XGBClassifier\n",
    "from sklearn.neighbors import KNeighborsClassifier\n",
    "from sklearn.metrics import classification_report,confusion_matrix,r2_score\n",
    "from sklearn.naive_bayes import CategoricalNB\n",
    "from sklearn.svm import LinearSVC\n",
    "import warnings\n",
    "warnings.filterwarnings('ignore')"
   ]
  },
  {
   "cell_type": "markdown",
   "metadata": {},
   "source": [
    "# visualization of data"
   ]
  },
  {
   "cell_type": "code",
   "execution_count": 2,
   "metadata": {},
   "outputs": [
    {
     "data": {
      "text/html": [
       "<div>\n",
       "<style scoped>\n",
       "    .dataframe tbody tr th:only-of-type {\n",
       "        vertical-align: middle;\n",
       "    }\n",
       "\n",
       "    .dataframe tbody tr th {\n",
       "        vertical-align: top;\n",
       "    }\n",
       "\n",
       "    .dataframe thead th {\n",
       "        text-align: right;\n",
       "    }\n",
       "</style>\n",
       "<table border=\"1\" class=\"dataframe\">\n",
       "  <thead>\n",
       "    <tr style=\"text-align: right;\">\n",
       "      <th></th>\n",
       "      <th>id</th>\n",
       "      <th>Gender</th>\n",
       "      <th>Age</th>\n",
       "      <th>Driving_License</th>\n",
       "      <th>Region_Code</th>\n",
       "      <th>Previously_Insured</th>\n",
       "      <th>Vehicle_Age</th>\n",
       "      <th>Vehicle_Damage</th>\n",
       "      <th>Annual_Premium</th>\n",
       "      <th>Policy_Sales_Channel</th>\n",
       "      <th>Vintage</th>\n",
       "      <th>Response</th>\n",
       "    </tr>\n",
       "  </thead>\n",
       "  <tbody>\n",
       "    <tr>\n",
       "      <th>0</th>\n",
       "      <td>1</td>\n",
       "      <td>Male</td>\n",
       "      <td>44</td>\n",
       "      <td>1</td>\n",
       "      <td>28.0</td>\n",
       "      <td>0</td>\n",
       "      <td>&gt; 2 Years</td>\n",
       "      <td>Yes</td>\n",
       "      <td>40454.0</td>\n",
       "      <td>26.0</td>\n",
       "      <td>217</td>\n",
       "      <td>1</td>\n",
       "    </tr>\n",
       "    <tr>\n",
       "      <th>1</th>\n",
       "      <td>2</td>\n",
       "      <td>Male</td>\n",
       "      <td>76</td>\n",
       "      <td>1</td>\n",
       "      <td>3.0</td>\n",
       "      <td>0</td>\n",
       "      <td>1-2 Year</td>\n",
       "      <td>No</td>\n",
       "      <td>33536.0</td>\n",
       "      <td>26.0</td>\n",
       "      <td>183</td>\n",
       "      <td>0</td>\n",
       "    </tr>\n",
       "    <tr>\n",
       "      <th>2</th>\n",
       "      <td>3</td>\n",
       "      <td>Male</td>\n",
       "      <td>47</td>\n",
       "      <td>1</td>\n",
       "      <td>28.0</td>\n",
       "      <td>0</td>\n",
       "      <td>&gt; 2 Years</td>\n",
       "      <td>Yes</td>\n",
       "      <td>38294.0</td>\n",
       "      <td>26.0</td>\n",
       "      <td>27</td>\n",
       "      <td>1</td>\n",
       "    </tr>\n",
       "    <tr>\n",
       "      <th>3</th>\n",
       "      <td>4</td>\n",
       "      <td>Male</td>\n",
       "      <td>21</td>\n",
       "      <td>1</td>\n",
       "      <td>11.0</td>\n",
       "      <td>1</td>\n",
       "      <td>&lt; 1 Year</td>\n",
       "      <td>No</td>\n",
       "      <td>28619.0</td>\n",
       "      <td>152.0</td>\n",
       "      <td>203</td>\n",
       "      <td>0</td>\n",
       "    </tr>\n",
       "    <tr>\n",
       "      <th>4</th>\n",
       "      <td>5</td>\n",
       "      <td>Female</td>\n",
       "      <td>29</td>\n",
       "      <td>1</td>\n",
       "      <td>41.0</td>\n",
       "      <td>1</td>\n",
       "      <td>&lt; 1 Year</td>\n",
       "      <td>No</td>\n",
       "      <td>27496.0</td>\n",
       "      <td>152.0</td>\n",
       "      <td>39</td>\n",
       "      <td>0</td>\n",
       "    </tr>\n",
       "    <tr>\n",
       "      <th>...</th>\n",
       "      <td>...</td>\n",
       "      <td>...</td>\n",
       "      <td>...</td>\n",
       "      <td>...</td>\n",
       "      <td>...</td>\n",
       "      <td>...</td>\n",
       "      <td>...</td>\n",
       "      <td>...</td>\n",
       "      <td>...</td>\n",
       "      <td>...</td>\n",
       "      <td>...</td>\n",
       "      <td>...</td>\n",
       "    </tr>\n",
       "    <tr>\n",
       "      <th>381104</th>\n",
       "      <td>381105</td>\n",
       "      <td>Male</td>\n",
       "      <td>74</td>\n",
       "      <td>1</td>\n",
       "      <td>26.0</td>\n",
       "      <td>1</td>\n",
       "      <td>1-2 Year</td>\n",
       "      <td>No</td>\n",
       "      <td>30170.0</td>\n",
       "      <td>26.0</td>\n",
       "      <td>88</td>\n",
       "      <td>0</td>\n",
       "    </tr>\n",
       "    <tr>\n",
       "      <th>381105</th>\n",
       "      <td>381106</td>\n",
       "      <td>Male</td>\n",
       "      <td>30</td>\n",
       "      <td>1</td>\n",
       "      <td>37.0</td>\n",
       "      <td>1</td>\n",
       "      <td>&lt; 1 Year</td>\n",
       "      <td>No</td>\n",
       "      <td>40016.0</td>\n",
       "      <td>152.0</td>\n",
       "      <td>131</td>\n",
       "      <td>0</td>\n",
       "    </tr>\n",
       "    <tr>\n",
       "      <th>381106</th>\n",
       "      <td>381107</td>\n",
       "      <td>Male</td>\n",
       "      <td>21</td>\n",
       "      <td>1</td>\n",
       "      <td>30.0</td>\n",
       "      <td>1</td>\n",
       "      <td>&lt; 1 Year</td>\n",
       "      <td>No</td>\n",
       "      <td>35118.0</td>\n",
       "      <td>160.0</td>\n",
       "      <td>161</td>\n",
       "      <td>0</td>\n",
       "    </tr>\n",
       "    <tr>\n",
       "      <th>381107</th>\n",
       "      <td>381108</td>\n",
       "      <td>Female</td>\n",
       "      <td>68</td>\n",
       "      <td>1</td>\n",
       "      <td>14.0</td>\n",
       "      <td>0</td>\n",
       "      <td>&gt; 2 Years</td>\n",
       "      <td>Yes</td>\n",
       "      <td>44617.0</td>\n",
       "      <td>124.0</td>\n",
       "      <td>74</td>\n",
       "      <td>0</td>\n",
       "    </tr>\n",
       "    <tr>\n",
       "      <th>381108</th>\n",
       "      <td>381109</td>\n",
       "      <td>Male</td>\n",
       "      <td>46</td>\n",
       "      <td>1</td>\n",
       "      <td>29.0</td>\n",
       "      <td>0</td>\n",
       "      <td>1-2 Year</td>\n",
       "      <td>No</td>\n",
       "      <td>41777.0</td>\n",
       "      <td>26.0</td>\n",
       "      <td>237</td>\n",
       "      <td>0</td>\n",
       "    </tr>\n",
       "  </tbody>\n",
       "</table>\n",
       "<p>381109 rows × 12 columns</p>\n",
       "</div>"
      ],
      "text/plain": [
       "            id  Gender  Age  Driving_License  Region_Code  Previously_Insured  \\\n",
       "0            1    Male   44                1         28.0                   0   \n",
       "1            2    Male   76                1          3.0                   0   \n",
       "2            3    Male   47                1         28.0                   0   \n",
       "3            4    Male   21                1         11.0                   1   \n",
       "4            5  Female   29                1         41.0                   1   \n",
       "...        ...     ...  ...              ...          ...                 ...   \n",
       "381104  381105    Male   74                1         26.0                   1   \n",
       "381105  381106    Male   30                1         37.0                   1   \n",
       "381106  381107    Male   21                1         30.0                   1   \n",
       "381107  381108  Female   68                1         14.0                   0   \n",
       "381108  381109    Male   46                1         29.0                   0   \n",
       "\n",
       "       Vehicle_Age Vehicle_Damage  Annual_Premium  Policy_Sales_Channel  \\\n",
       "0        > 2 Years            Yes         40454.0                  26.0   \n",
       "1         1-2 Year             No         33536.0                  26.0   \n",
       "2        > 2 Years            Yes         38294.0                  26.0   \n",
       "3         < 1 Year             No         28619.0                 152.0   \n",
       "4         < 1 Year             No         27496.0                 152.0   \n",
       "...            ...            ...             ...                   ...   \n",
       "381104    1-2 Year             No         30170.0                  26.0   \n",
       "381105    < 1 Year             No         40016.0                 152.0   \n",
       "381106    < 1 Year             No         35118.0                 160.0   \n",
       "381107   > 2 Years            Yes         44617.0                 124.0   \n",
       "381108    1-2 Year             No         41777.0                  26.0   \n",
       "\n",
       "        Vintage  Response  \n",
       "0           217         1  \n",
       "1           183         0  \n",
       "2            27         1  \n",
       "3           203         0  \n",
       "4            39         0  \n",
       "...         ...       ...  \n",
       "381104       88         0  \n",
       "381105      131         0  \n",
       "381106      161         0  \n",
       "381107       74         0  \n",
       "381108      237         0  \n",
       "\n",
       "[381109 rows x 12 columns]"
      ]
     },
     "execution_count": 2,
     "metadata": {},
     "output_type": "execute_result"
    }
   ],
   "source": [
    "data=pd.read_csv('insurance_train_data.csv')\n",
    "data"
   ]
  },
  {
   "cell_type": "markdown",
   "metadata": {},
   "source": [
    "from data it is clear that response has two class 0 and 1 hence binary classification problem and also GENDER ,VEHICAL_DAMAGE,VEHICAL_AGE are 3 categorical features and rest features are numerical in nature "
   ]
  },
  {
   "cell_type": "code",
   "execution_count": 3,
   "metadata": {},
   "outputs": [
    {
     "name": "stdout",
     "output_type": "stream",
     "text": [
      "<class 'pandas.core.frame.DataFrame'>\n",
      "RangeIndex: 381109 entries, 0 to 381108\n",
      "Data columns (total 12 columns):\n",
      " #   Column                Non-Null Count   Dtype  \n",
      "---  ------                --------------   -----  \n",
      " 0   id                    381109 non-null  int64  \n",
      " 1   Gender                381109 non-null  object \n",
      " 2   Age                   381109 non-null  int64  \n",
      " 3   Driving_License       381109 non-null  int64  \n",
      " 4   Region_Code           381109 non-null  float64\n",
      " 5   Previously_Insured    381109 non-null  int64  \n",
      " 6   Vehicle_Age           381109 non-null  object \n",
      " 7   Vehicle_Damage        381109 non-null  object \n",
      " 8   Annual_Premium        381109 non-null  float64\n",
      " 9   Policy_Sales_Channel  381109 non-null  float64\n",
      " 10  Vintage               381109 non-null  int64  \n",
      " 11  Response              381109 non-null  int64  \n",
      "dtypes: float64(3), int64(6), object(3)\n",
      "memory usage: 34.9+ MB\n"
     ]
    }
   ],
   "source": [
    "data.info()"
   ]
  },
  {
   "cell_type": "markdown",
   "metadata": {},
   "source": [
    "now see some information about data it is clearly seen that 381109 rows and no missing value as count is equal to number of row and 12 columns and its corresponding data type"
   ]
  },
  {
   "cell_type": "markdown",
   "metadata": {},
   "source": [
    "# Exploratory data analysis"
   ]
  },
  {
   "cell_type": "code",
   "execution_count": 4,
   "metadata": {},
   "outputs": [
    {
     "data": {
      "text/html": [
       "<div>\n",
       "<style scoped>\n",
       "    .dataframe tbody tr th:only-of-type {\n",
       "        vertical-align: middle;\n",
       "    }\n",
       "\n",
       "    .dataframe tbody tr th {\n",
       "        vertical-align: top;\n",
       "    }\n",
       "\n",
       "    .dataframe thead th {\n",
       "        text-align: right;\n",
       "    }\n",
       "</style>\n",
       "<table border=\"1\" class=\"dataframe\">\n",
       "  <thead>\n",
       "    <tr style=\"text-align: right;\">\n",
       "      <th></th>\n",
       "      <th>Age</th>\n",
       "      <th>Driving_License</th>\n",
       "      <th>Region_Code</th>\n",
       "      <th>Previously_Insured</th>\n",
       "      <th>Annual_Premium</th>\n",
       "      <th>Policy_Sales_Channel</th>\n",
       "      <th>Vintage</th>\n",
       "      <th>Response</th>\n",
       "    </tr>\n",
       "  </thead>\n",
       "  <tbody>\n",
       "    <tr>\n",
       "      <th>count</th>\n",
       "      <td>381109.000000</td>\n",
       "      <td>381109.000000</td>\n",
       "      <td>381109.000000</td>\n",
       "      <td>381109.000000</td>\n",
       "      <td>381109.000000</td>\n",
       "      <td>381109.000000</td>\n",
       "      <td>381109.000000</td>\n",
       "      <td>381109.000000</td>\n",
       "    </tr>\n",
       "    <tr>\n",
       "      <th>mean</th>\n",
       "      <td>38.822584</td>\n",
       "      <td>0.997869</td>\n",
       "      <td>26.388807</td>\n",
       "      <td>0.458210</td>\n",
       "      <td>30564.389581</td>\n",
       "      <td>112.034295</td>\n",
       "      <td>154.347397</td>\n",
       "      <td>0.122563</td>\n",
       "    </tr>\n",
       "    <tr>\n",
       "      <th>std</th>\n",
       "      <td>15.511611</td>\n",
       "      <td>0.046110</td>\n",
       "      <td>13.229888</td>\n",
       "      <td>0.498251</td>\n",
       "      <td>17213.155057</td>\n",
       "      <td>54.203995</td>\n",
       "      <td>83.671304</td>\n",
       "      <td>0.327936</td>\n",
       "    </tr>\n",
       "    <tr>\n",
       "      <th>min</th>\n",
       "      <td>20.000000</td>\n",
       "      <td>0.000000</td>\n",
       "      <td>0.000000</td>\n",
       "      <td>0.000000</td>\n",
       "      <td>2630.000000</td>\n",
       "      <td>1.000000</td>\n",
       "      <td>10.000000</td>\n",
       "      <td>0.000000</td>\n",
       "    </tr>\n",
       "    <tr>\n",
       "      <th>25%</th>\n",
       "      <td>25.000000</td>\n",
       "      <td>1.000000</td>\n",
       "      <td>15.000000</td>\n",
       "      <td>0.000000</td>\n",
       "      <td>24405.000000</td>\n",
       "      <td>29.000000</td>\n",
       "      <td>82.000000</td>\n",
       "      <td>0.000000</td>\n",
       "    </tr>\n",
       "    <tr>\n",
       "      <th>50%</th>\n",
       "      <td>36.000000</td>\n",
       "      <td>1.000000</td>\n",
       "      <td>28.000000</td>\n",
       "      <td>0.000000</td>\n",
       "      <td>31669.000000</td>\n",
       "      <td>133.000000</td>\n",
       "      <td>154.000000</td>\n",
       "      <td>0.000000</td>\n",
       "    </tr>\n",
       "    <tr>\n",
       "      <th>75%</th>\n",
       "      <td>49.000000</td>\n",
       "      <td>1.000000</td>\n",
       "      <td>35.000000</td>\n",
       "      <td>1.000000</td>\n",
       "      <td>39400.000000</td>\n",
       "      <td>152.000000</td>\n",
       "      <td>227.000000</td>\n",
       "      <td>0.000000</td>\n",
       "    </tr>\n",
       "    <tr>\n",
       "      <th>max</th>\n",
       "      <td>85.000000</td>\n",
       "      <td>1.000000</td>\n",
       "      <td>52.000000</td>\n",
       "      <td>1.000000</td>\n",
       "      <td>540165.000000</td>\n",
       "      <td>163.000000</td>\n",
       "      <td>299.000000</td>\n",
       "      <td>1.000000</td>\n",
       "    </tr>\n",
       "  </tbody>\n",
       "</table>\n",
       "</div>"
      ],
      "text/plain": [
       "                 Age  Driving_License    Region_Code  Previously_Insured  \\\n",
       "count  381109.000000    381109.000000  381109.000000       381109.000000   \n",
       "mean       38.822584         0.997869      26.388807            0.458210   \n",
       "std        15.511611         0.046110      13.229888            0.498251   \n",
       "min        20.000000         0.000000       0.000000            0.000000   \n",
       "25%        25.000000         1.000000      15.000000            0.000000   \n",
       "50%        36.000000         1.000000      28.000000            0.000000   \n",
       "75%        49.000000         1.000000      35.000000            1.000000   \n",
       "max        85.000000         1.000000      52.000000            1.000000   \n",
       "\n",
       "       Annual_Premium  Policy_Sales_Channel        Vintage       Response  \n",
       "count   381109.000000         381109.000000  381109.000000  381109.000000  \n",
       "mean     30564.389581            112.034295     154.347397       0.122563  \n",
       "std      17213.155057             54.203995      83.671304       0.327936  \n",
       "min       2630.000000              1.000000      10.000000       0.000000  \n",
       "25%      24405.000000             29.000000      82.000000       0.000000  \n",
       "50%      31669.000000            133.000000     154.000000       0.000000  \n",
       "75%      39400.000000            152.000000     227.000000       0.000000  \n",
       "max     540165.000000            163.000000     299.000000       1.000000  "
      ]
     },
     "execution_count": 4,
     "metadata": {},
     "output_type": "execute_result"
    }
   ],
   "source": [
    "data.drop(['id'],inplace=True,axis=1)\n",
    "data.describe()"
   ]
  },
  {
   "cell_type": "markdown",
   "metadata": {},
   "source": [
    "statistical description of features which containing only numerical value, information we gain from here is like mean ,median,mode, min ,max,quartile value, and Skewness while observing mean and median value so main features like age which looks like normally distributed as mean and median is nearly equal same as annual primium "
   ]
  },
  {
   "cell_type": "code",
   "execution_count": 5,
   "metadata": {},
   "outputs": [
    {
     "data": {
      "text/html": [
       "<div>\n",
       "<style scoped>\n",
       "    .dataframe tbody tr th:only-of-type {\n",
       "        vertical-align: middle;\n",
       "    }\n",
       "\n",
       "    .dataframe tbody tr th {\n",
       "        vertical-align: top;\n",
       "    }\n",
       "\n",
       "    .dataframe thead th {\n",
       "        text-align: right;\n",
       "    }\n",
       "</style>\n",
       "<table border=\"1\" class=\"dataframe\">\n",
       "  <thead>\n",
       "    <tr style=\"text-align: right;\">\n",
       "      <th></th>\n",
       "      <th>Gender</th>\n",
       "      <th>Vehicle_Age</th>\n",
       "      <th>Vehicle_Damage</th>\n",
       "    </tr>\n",
       "  </thead>\n",
       "  <tbody>\n",
       "    <tr>\n",
       "      <th>count</th>\n",
       "      <td>381109</td>\n",
       "      <td>381109</td>\n",
       "      <td>381109</td>\n",
       "    </tr>\n",
       "    <tr>\n",
       "      <th>unique</th>\n",
       "      <td>2</td>\n",
       "      <td>3</td>\n",
       "      <td>2</td>\n",
       "    </tr>\n",
       "    <tr>\n",
       "      <th>top</th>\n",
       "      <td>Male</td>\n",
       "      <td>1-2 Year</td>\n",
       "      <td>Yes</td>\n",
       "    </tr>\n",
       "    <tr>\n",
       "      <th>freq</th>\n",
       "      <td>206089</td>\n",
       "      <td>200316</td>\n",
       "      <td>192413</td>\n",
       "    </tr>\n",
       "  </tbody>\n",
       "</table>\n",
       "</div>"
      ],
      "text/plain": [
       "        Gender Vehicle_Age Vehicle_Damage\n",
       "count   381109      381109         381109\n",
       "unique       2           3              2\n",
       "top       Male    1-2 Year            Yes\n",
       "freq    206089      200316         192413"
      ]
     },
     "execution_count": 5,
     "metadata": {},
     "output_type": "execute_result"
    }
   ],
   "source": [
    "data.describe(include='O')"
   ]
  },
  {
   "cell_type": "markdown",
   "metadata": {},
   "source": [
    "statistical analysis of categorical features its unique value in each feature represent the unique category in feature like gender has two unique MALE and FEMALE vehicle_age has three category and vehicle_damage has two category top represent maximum frequency among unique category we can say kind of mode of corresponding features"
   ]
  },
  {
   "cell_type": "code",
   "execution_count": 6,
   "metadata": {},
   "outputs": [
    {
     "data": {
      "text/plain": [
       "0    334399\n",
       "1     46710\n",
       "Name: Response, dtype: int64"
      ]
     },
     "execution_count": 6,
     "metadata": {},
     "output_type": "execute_result"
    }
   ],
   "source": [
    "data.Response.value_counts()"
   ]
  },
  {
   "cell_type": "code",
   "execution_count": 7,
   "metadata": {},
   "outputs": [
    {
     "data": {
      "text/plain": [
       "<AxesSubplot:xlabel='Response', ylabel='count'>"
      ]
     },
     "execution_count": 7,
     "metadata": {},
     "output_type": "execute_result"
    },
    {
     "data": {
      "image/png": "[encoded data removed]",
      "text/plain": [
       "<Figure size 432x288 with 1 Axes>"
      ]
     },
     "metadata": {
      "needs_background": "light"
     },
     "output_type": "display_data"
    }
   ],
   "source": [
    "sns.countplot(data.Response)"
   ]
  },
  {
   "cell_type": "markdown",
   "metadata": {},
   "source": [
    "Response is Class label as from above it is unbalance data as class label count is unbalance binary classification"
   ]
  },
  {
   "cell_type": "markdown",
   "metadata": {},
   "source": [
    "# Univariate Analysis\n",
    "\n",
    "# categorical features\n",
    "\n",
    "# 1.Gender"
   ]
  },
  {
   "cell_type": "code",
   "execution_count": 8,
   "metadata": {},
   "outputs": [
    {
     "data": {
      "image/png": "[encoded data removed]",
      "text/plain": [
       "<Figure size 720x576 with 1 Axes>"
      ]
     },
     "metadata": {
      "needs_background": "light"
     },
     "output_type": "display_data"
    }
   ],
   "source": [
    "plt.figure(figsize=(10,8))\n",
    "sns.countplot(data.Gender,hue=data.Response)\n",
    "plt.show()"
   ]
  },
  {
   "cell_type": "markdown",
   "metadata": {},
   "source": [
    "in above countplot in both category 0 response is very large count as compare 1 hence again from above plot data is unbalance "
   ]
  },
  {
   "cell_type": "code",
   "execution_count": 9,
   "metadata": {},
   "outputs": [
    {
     "data": {
      "image/png": "[encoded data removed]",
      "text/plain": [
       "<Figure size 720x576 with 1 Axes>"
      ]
     },
     "metadata": {},
     "output_type": "display_data"
    }
   ],
   "source": [
    "plt.figure(figsize=(10,8))\n",
    "plt.pie(data.Gender.value_counts(),explode=[.1,.2],startangle=90,autopct='%.2f%%',colors=['#00FFFF','#7FE817'],radius=4,labels=['Male','Female'])\n",
    "plt.title('Gender',fontdict={'fontsize':22,'fontweight':'bold'})\n",
    "plt.axis('equal')\n",
    "plt.show()"
   ]
  },
  {
   "cell_type": "code",
   "execution_count": 10,
   "metadata": {},
   "outputs": [],
   "source": [
    "data.Gender=pd.Categorical(data.Gender,categories=['Male','Female'],ordered=True).codes\n",
    "correlation1=data.corr()"
   ]
  },
  {
   "cell_type": "code",
   "execution_count": 11,
   "metadata": {},
   "outputs": [
    {
     "data": {
      "text/html": [
       "<style  type=\"text/css\" >\n",
       "#T_9ecfb28f_a680_11eb_9d2a_06a657712b71row0_col0{\n",
       "            background-color:  #00ffff;\n",
       "            color:  #000000;\n",
       "        }#T_9ecfb28f_a680_11eb_9d2a_06a657712b71row1_col0{\n",
       "            background-color:  #c639ff;\n",
       "            color:  #f1f1f1;\n",
       "        }#T_9ecfb28f_a680_11eb_9d2a_06a657712b71row2_col0{\n",
       "            background-color:  #cd32ff;\n",
       "            color:  #f1f1f1;\n",
       "        }#T_9ecfb28f_a680_11eb_9d2a_06a657712b71row3_col0{\n",
       "            background-color:  #db24ff;\n",
       "            color:  #f1f1f1;\n",
       "        }#T_9ecfb28f_a680_11eb_9d2a_06a657712b71row4_col0{\n",
       "            background-color:  #de21ff;\n",
       "            color:  #f1f1f1;\n",
       "        }#T_9ecfb28f_a680_11eb_9d2a_06a657712b71row5_col0{\n",
       "            background-color:  #df20ff;\n",
       "            color:  #f1f1f1;\n",
       "        }#T_9ecfb28f_a680_11eb_9d2a_06a657712b71row6_col0{\n",
       "            background-color:  #e01fff;\n",
       "            color:  #f1f1f1;\n",
       "        }#T_9ecfb28f_a680_11eb_9d2a_06a657712b71row7_col0{\n",
       "            background-color:  #eb14ff;\n",
       "            color:  #f1f1f1;\n",
       "        }#T_9ecfb28f_a680_11eb_9d2a_06a657712b71row8_col0{\n",
       "            background-color:  #ff00ff;\n",
       "            color:  #f1f1f1;\n",
       "        }</style><table id=\"T_9ecfb28f_a680_11eb_9d2a_06a657712b71\" ><thead>    <tr>        <th class=\"blank level0\" ></th>        <th class=\"col_heading level0 col0\" >Gender</th>    </tr></thead><tbody>\n",
       "                <tr>\n",
       "                        <th id=\"T_9ecfb28f_a680_11eb_9d2a_06a657712b71level0_row0\" class=\"row_heading level0 row0\" >Gender</th>\n",
       "                        <td id=\"T_9ecfb28f_a680_11eb_9d2a_06a657712b71row0_col0\" class=\"data row0 col0\" >1.000000</td>\n",
       "            </tr>\n",
       "            <tr>\n",
       "                        <th id=\"T_9ecfb28f_a680_11eb_9d2a_06a657712b71level0_row1\" class=\"row_heading level0 row1\" >Policy_Sales_Channel</th>\n",
       "                        <td id=\"T_9ecfb28f_a680_11eb_9d2a_06a657712b71row1_col0\" class=\"data row1 col0\" >0.111159</td>\n",
       "            </tr>\n",
       "            <tr>\n",
       "                        <th id=\"T_9ecfb28f_a680_11eb_9d2a_06a657712b71level0_row2\" class=\"row_heading level0 row2\" >Previously_Insured</th>\n",
       "                        <td id=\"T_9ecfb28f_a680_11eb_9d2a_06a657712b71row2_col0\" class=\"data row2 col0\" >0.081932</td>\n",
       "            </tr>\n",
       "            <tr>\n",
       "                        <th id=\"T_9ecfb28f_a680_11eb_9d2a_06a657712b71level0_row3\" class=\"row_heading level0 row3\" >Driving_License</th>\n",
       "                        <td id=\"T_9ecfb28f_a680_11eb_9d2a_06a657712b71row3_col0\" class=\"data row3 col0\" >0.018374</td>\n",
       "            </tr>\n",
       "            <tr>\n",
       "                        <th id=\"T_9ecfb28f_a680_11eb_9d2a_06a657712b71level0_row4\" class=\"row_heading level0 row4\" >Vintage</th>\n",
       "                        <td id=\"T_9ecfb28f_a680_11eb_9d2a_06a657712b71row4_col0\" class=\"data row4 col0\" >0.002517</td>\n",
       "            </tr>\n",
       "            <tr>\n",
       "                        <th id=\"T_9ecfb28f_a680_11eb_9d2a_06a657712b71level0_row5\" class=\"row_heading level0 row5\" >Region_Code</th>\n",
       "                        <td id=\"T_9ecfb28f_a680_11eb_9d2a_06a657712b71row5_col0\" class=\"data row5 col0\" >-0.000604</td>\n",
       "            </tr>\n",
       "            <tr>\n",
       "                        <th id=\"T_9ecfb28f_a680_11eb_9d2a_06a657712b71level0_row6\" class=\"row_heading level0 row6\" >Annual_Premium</th>\n",
       "                        <td id=\"T_9ecfb28f_a680_11eb_9d2a_06a657712b71row6_col0\" class=\"data row6 col0\" >-0.003673</td>\n",
       "            </tr>\n",
       "            <tr>\n",
       "                        <th id=\"T_9ecfb28f_a680_11eb_9d2a_06a657712b71level0_row7\" class=\"row_heading level0 row7\" >Response</th>\n",
       "                        <td id=\"T_9ecfb28f_a680_11eb_9d2a_06a657712b71row7_col0\" class=\"data row7 col0\" >-0.052440</td>\n",
       "            </tr>\n",
       "            <tr>\n",
       "                        <th id=\"T_9ecfb28f_a680_11eb_9d2a_06a657712b71level0_row8\" class=\"row_heading level0 row8\" >Age</th>\n",
       "                        <td id=\"T_9ecfb28f_a680_11eb_9d2a_06a657712b71row8_col0\" class=\"data row8 col0\" >-0.145545</td>\n",
       "            </tr>\n",
       "    </tbody></table>"
      ],
      "text/plain": [
       "<pandas.io.formats.style.Styler at 0xd09b9bd30>"
      ]
     },
     "execution_count": 11,
     "metadata": {},
     "output_type": "execute_result"
    }
   ],
   "source": [
    "correlation1[['Gender']].sort_values(by='Gender',ascending=False).style.background_gradient(cmap='cool_r')"
   ]
  },
  {
   "cell_type": "markdown",
   "metadata": {},
   "source": [
    "here i done factor analysis of Gender attribute to rest of attribute but no significance correlation value is found"
   ]
  },
  {
   "cell_type": "markdown",
   "metadata": {},
   "source": [
    "# 2. Vehical age"
   ]
  },
  {
   "cell_type": "code",
   "execution_count": 12,
   "metadata": {},
   "outputs": [
    {
     "data": {
      "image/png": "[encoded data removed]",
      "text/plain": [
       "<Figure size 720x576 with 1 Axes>"
      ]
     },
     "metadata": {},
     "output_type": "display_data"
    }
   ],
   "source": [
    "plt.figure(figsize=(10,8))\n",
    "plt.pie(data.Vehicle_Age.value_counts(),explode=[.1,.2,.1],startangle=90,autopct='%.2f%%',radius=4,colors=['#3ACCA7','#DD7FEB','#EB8F7F'],labels=['1-2 years','< 1 year','> 2 years'])\n",
    "plt.title('Vehical Age',fontdict={'fontsize':22,'fontweight':'bold'})\n",
    "plt.axis('equal')\n",
    "plt.show()"
   ]
  },
  {
   "cell_type": "code",
   "execution_count": 13,
   "metadata": {},
   "outputs": [
    {
     "data": {
      "image/png": "[encoded data removed]",
      "text/plain": [
       "<Figure size 720x576 with 1 Axes>"
      ]
     },
     "metadata": {
      "needs_background": "light"
     },
     "output_type": "display_data"
    }
   ],
   "source": [
    "plt.figure(figsize=(10,8))\n",
    "sns.countplot(data.Vehicle_Age,hue=data.Response,palette='BuPu_r')\n",
    "plt.show()"
   ]
  },
  {
   "cell_type": "code",
   "execution_count": 14,
   "metadata": {},
   "outputs": [],
   "source": [
    "data.Vehicle_Age=pd.Categorical(data.Vehicle_Age,categories=['1-2 Year','< 1 Year','> 2 Years'],ordered=True).codes\n",
    "correlation2=data.corr()"
   ]
  },
  {
   "cell_type": "code",
   "execution_count": 15,
   "metadata": {},
   "outputs": [
    {
     "data": {
      "text/html": [
       "<style  type=\"text/css\" >\n",
       "#T_a151a55a_a680_11eb_8d0e_06a657712b71row0_col0{\n",
       "            background-color:  #276419;\n",
       "            color:  #f1f1f1;\n",
       "        }#T_a151a55a_a680_11eb_8d0e_06a657712b71row1_col0{\n",
       "            background-color:  #e6f5d0;\n",
       "            color:  #000000;\n",
       "        }#T_a151a55a_a680_11eb_8d0e_06a657712b71row2_col0{\n",
       "            background-color:  #f9eef4;\n",
       "            color:  #000000;\n",
       "        }#T_a151a55a_a680_11eb_8d0e_06a657712b71row3_col0{\n",
       "            background-color:  #fce4f0;\n",
       "            color:  #000000;\n",
       "        }#T_a151a55a_a680_11eb_8d0e_06a657712b71row4_col0{\n",
       "            background-color:  #f8d0e7;\n",
       "            color:  #000000;\n",
       "        }#T_a151a55a_a680_11eb_8d0e_06a657712b71row5_col0{\n",
       "            background-color:  #f8cee6;\n",
       "            color:  #000000;\n",
       "        }#T_a151a55a_a680_11eb_8d0e_06a657712b71row6_col0{\n",
       "            background-color:  #f6c9e3;\n",
       "            color:  #000000;\n",
       "        }#T_a151a55a_a680_11eb_8d0e_06a657712b71row7_col0{\n",
       "            background-color:  #f4c1df;\n",
       "            color:  #000000;\n",
       "        }#T_a151a55a_a680_11eb_8d0e_06a657712b71row8_col0{\n",
       "            background-color:  #eca6cf;\n",
       "            color:  #000000;\n",
       "        }#T_a151a55a_a680_11eb_8d0e_06a657712b71row9_col0{\n",
       "            background-color:  #8e0152;\n",
       "            color:  #f1f1f1;\n",
       "        }</style><table id=\"T_a151a55a_a680_11eb_8d0e_06a657712b71\" ><thead>    <tr>        <th class=\"blank level0\" ></th>        <th class=\"col_heading level0 col0\" >Vehicle_Age</th>    </tr></thead><tbody>\n",
       "                <tr>\n",
       "                        <th id=\"T_a151a55a_a680_11eb_8d0e_06a657712b71level0_row0\" class=\"row_heading level0 row0\" >Vehicle_Age</th>\n",
       "                        <td id=\"T_a151a55a_a680_11eb_8d0e_06a657712b71row0_col0\" class=\"data row0 col0\" >1.000000</td>\n",
       "            </tr>\n",
       "            <tr>\n",
       "                        <th id=\"T_a151a55a_a680_11eb_8d0e_06a657712b71level0_row1\" class=\"row_heading level0 row1\" >Policy_Sales_Channel</th>\n",
       "                        <td id=\"T_a151a55a_a680_11eb_8d0e_06a657712b71row1_col0\" class=\"data row1 col0\" >0.388551</td>\n",
       "            </tr>\n",
       "            <tr>\n",
       "                        <th id=\"T_a151a55a_a680_11eb_8d0e_06a657712b71level0_row2\" class=\"row_heading level0 row2\" >Previously_Insured</th>\n",
       "                        <td id=\"T_a151a55a_a680_11eb_8d0e_06a657712b71row2_col0\" class=\"data row2 col0\" >0.174783</td>\n",
       "            </tr>\n",
       "            <tr>\n",
       "                        <th id=\"T_a151a55a_a680_11eb_8d0e_06a657712b71level0_row3\" class=\"row_heading level0 row3\" >Gender</th>\n",
       "                        <td id=\"T_a151a55a_a680_11eb_8d0e_06a657712b71row3_col0\" class=\"data row3 col0\" >0.112625</td>\n",
       "            </tr>\n",
       "            <tr>\n",
       "                        <th id=\"T_a151a55a_a680_11eb_8d0e_06a657712b71level0_row4\" class=\"row_heading level0 row4\" >Driving_License</th>\n",
       "                        <td id=\"T_a151a55a_a680_11eb_8d0e_06a657712b71row4_col0\" class=\"data row4 col0\" >0.030173</td>\n",
       "            </tr>\n",
       "            <tr>\n",
       "                        <th id=\"T_a151a55a_a680_11eb_8d0e_06a657712b71level0_row5\" class=\"row_heading level0 row5\" >Annual_Premium</th>\n",
       "                        <td id=\"T_a151a55a_a680_11eb_8d0e_06a657712b71row5_col0\" class=\"data row5 col0\" >0.023656</td>\n",
       "            </tr>\n",
       "            <tr>\n",
       "                        <th id=\"T_a151a55a_a680_11eb_8d0e_06a657712b71level0_row6\" class=\"row_heading level0 row6\" >Vintage</th>\n",
       "                        <td id=\"T_a151a55a_a680_11eb_8d0e_06a657712b71row6_col0\" class=\"data row6 col0\" >0.002484</td>\n",
       "            </tr>\n",
       "            <tr>\n",
       "                        <th id=\"T_a151a55a_a680_11eb_8d0e_06a657712b71level0_row7\" class=\"row_heading level0 row7\" >Region_Code</th>\n",
       "                        <td id=\"T_a151a55a_a680_11eb_8d0e_06a657712b71row7_col0\" class=\"data row7 col0\" >-0.027840</td>\n",
       "            </tr>\n",
       "            <tr>\n",
       "                        <th id=\"T_a151a55a_a680_11eb_8d0e_06a657712b71level0_row8\" class=\"row_heading level0 row8\" >Response</th>\n",
       "                        <td id=\"T_a151a55a_a680_11eb_8d0e_06a657712b71row8_col0\" class=\"data row8 col0\" >-0.104078</td>\n",
       "            </tr>\n",
       "            <tr>\n",
       "                        <th id=\"T_a151a55a_a680_11eb_8d0e_06a657712b71level0_row9\" class=\"row_heading level0 row9\" >Age</th>\n",
       "                        <td id=\"T_a151a55a_a680_11eb_8d0e_06a657712b71row9_col0\" class=\"data row9 col0\" >-0.522300</td>\n",
       "            </tr>\n",
       "    </tbody></table>"
      ],
      "text/plain": [
       "<pandas.io.formats.style.Styler at 0xd08b8ebb0>"
      ]
     },
     "execution_count": 15,
     "metadata": {},
     "output_type": "execute_result"
    }
   ],
   "source": [
    "correlation2[['Vehicle_Age']].sort_values(['Vehicle_Age'],ascending=False).style.background_gradient(cmap='PiYG')"
   ]
  },
  {
   "cell_type": "markdown",
   "metadata": {},
   "source": [
    "in vehicle_age also no significance correlation found with other features "
   ]
  },
  {
   "cell_type": "markdown",
   "metadata": {},
   "source": [
    "# 3.Vehicle_Damage"
   ]
  },
  {
   "cell_type": "code",
   "execution_count": 16,
   "metadata": {},
   "outputs": [
    {
     "data": {
      "text/plain": [
       "Yes    192413\n",
       "No     188696\n",
       "Name: Vehicle_Damage, dtype: int64"
      ]
     },
     "execution_count": 16,
     "metadata": {},
     "output_type": "execute_result"
    }
   ],
   "source": [
    "data.Vehicle_Damage.value_counts()"
   ]
  },
  {
   "cell_type": "code",
   "execution_count": 17,
   "metadata": {},
   "outputs": [
    {
     "data": {
      "image/png": "[encoded data removed]",
      "text/plain": [
       "<Figure size 720x576 with 1 Axes>"
      ]
     },
     "metadata": {},
     "output_type": "display_data"
    }
   ],
   "source": [
    "plt.figure(figsize=(10,8))\n",
    "plt.pie(data.Vehicle_Damage.value_counts(),explode=[.1,.2],startangle=90,autopct='%.2f%%',colors=['#F4F93B','#3BF9F5'],radius=4,labels=['Yes','No'])\n",
    "plt.title('Vehicle Damage',fontdict={'fontsize':22,'fontweight':'bold'})\n",
    "plt.axis('equal')\n",
    "plt.show()"
   ]
  },
  {
   "cell_type": "code",
   "execution_count": 18,
   "metadata": {},
   "outputs": [
    {
     "data": {
      "image/png": "[encoded data removed]",
      "text/plain": [
       "<Figure size 720x576 with 1 Axes>"
      ]
     },
     "metadata": {
      "needs_background": "light"
     },
     "output_type": "display_data"
    }
   ],
   "source": [
    "plt.figure(figsize=(10,8))\n",
    "sns.countplot(data.Vehicle_Damage,hue=data.Response,palette='PuRd')\n",
    "plt.show()"
   ]
  },
  {
   "cell_type": "code",
   "execution_count": 19,
   "metadata": {},
   "outputs": [],
   "source": [
    "data.Vehicle_Damage=pd.Categorical(data.Vehicle_Damage,categories=['Yes','No'],ordered=True).codes\n",
    "correlation3=data.corr()"
   ]
  },
  {
   "cell_type": "code",
   "execution_count": 20,
   "metadata": {},
   "outputs": [
    {
     "data": {
      "text/html": [
       "<style  type=\"text/css\" >\n",
       "#T_a39f37fe_a680_11eb_931c_06a657712b71row0_col0{\n",
       "            background-color:  #fde725;\n",
       "            color:  #000000;\n",
       "        }#T_a39f37fe_a680_11eb_931c_06a657712b71row1_col0{\n",
       "            background-color:  #a8db34;\n",
       "            color:  #000000;\n",
       "        }#T_a39f37fe_a680_11eb_931c_06a657712b71row2_col0{\n",
       "            background-color:  #277f8e;\n",
       "            color:  #000000;\n",
       "        }#T_a39f37fe_a680_11eb_931c_06a657712b71row3_col0{\n",
       "            background-color:  #2b758e;\n",
       "            color:  #f1f1f1;\n",
       "        }#T_a39f37fe_a680_11eb_931c_06a657712b71row4_col0{\n",
       "            background-color:  #31678e;\n",
       "            color:  #f1f1f1;\n",
       "        }#T_a39f37fe_a680_11eb_931c_06a657712b71row5_col0{\n",
       "            background-color:  #38598c;\n",
       "            color:  #f1f1f1;\n",
       "        }#T_a39f37fe_a680_11eb_931c_06a657712b71row6_col0{\n",
       "            background-color:  #39558c;\n",
       "            color:  #f1f1f1;\n",
       "        }#T_a39f37fe_a680_11eb_931c_06a657712b71row7_col0{\n",
       "            background-color:  #3a538b;\n",
       "            color:  #f1f1f1;\n",
       "        }#T_a39f37fe_a680_11eb_931c_06a657712b71row8_col0{\n",
       "            background-color:  #3c4f8a;\n",
       "            color:  #f1f1f1;\n",
       "        }#T_a39f37fe_a680_11eb_931c_06a657712b71row9_col0{\n",
       "            background-color:  #48186a;\n",
       "            color:  #f1f1f1;\n",
       "        }#T_a39f37fe_a680_11eb_931c_06a657712b71row10_col0{\n",
       "            background-color:  #440154;\n",
       "            color:  #f1f1f1;\n",
       "        }</style><table id=\"T_a39f37fe_a680_11eb_931c_06a657712b71\" ><thead>    <tr>        <th class=\"blank level0\" ></th>        <th class=\"col_heading level0 col0\" >Vehicle_Damage</th>    </tr></thead><tbody>\n",
       "                <tr>\n",
       "                        <th id=\"T_a39f37fe_a680_11eb_931c_06a657712b71level0_row0\" class=\"row_heading level0 row0\" >Vehicle_Damage</th>\n",
       "                        <td id=\"T_a39f37fe_a680_11eb_931c_06a657712b71row0_col0\" class=\"data row0 col0\" >1.000000</td>\n",
       "            </tr>\n",
       "            <tr>\n",
       "                        <th id=\"T_a39f37fe_a680_11eb_931c_06a657712b71level0_row1\" class=\"row_heading level0 row1\" >Previously_Insured</th>\n",
       "                        <td id=\"T_a39f37fe_a680_11eb_931c_06a657712b71row1_col0\" class=\"data row1 col0\" >0.824143</td>\n",
       "            </tr>\n",
       "            <tr>\n",
       "                        <th id=\"T_a39f37fe_a680_11eb_931c_06a657712b71level0_row2\" class=\"row_heading level0 row2\" >Policy_Sales_Channel</th>\n",
       "                        <td id=\"T_a39f37fe_a680_11eb_931c_06a657712b71row2_col0\" class=\"data row2 col0\" >0.224377</td>\n",
       "            </tr>\n",
       "            <tr>\n",
       "                        <th id=\"T_a39f37fe_a680_11eb_931c_06a657712b71level0_row3\" class=\"row_heading level0 row3\" >Vehicle_Age</th>\n",
       "                        <td id=\"T_a39f37fe_a680_11eb_931c_06a657712b71row3_col0\" class=\"data row3 col0\" >0.174238</td>\n",
       "            </tr>\n",
       "            <tr>\n",
       "                        <th id=\"T_a39f37fe_a680_11eb_931c_06a657712b71level0_row4\" class=\"row_heading level0 row4\" >Gender</th>\n",
       "                        <td id=\"T_a39f37fe_a680_11eb_931c_06a657712b71row4_col0\" class=\"data row4 col0\" >0.091606</td>\n",
       "            </tr>\n",
       "            <tr>\n",
       "                        <th id=\"T_a39f37fe_a680_11eb_931c_06a657712b71level0_row5\" class=\"row_heading level0 row5\" >Driving_License</th>\n",
       "                        <td id=\"T_a39f37fe_a680_11eb_931c_06a657712b71row5_col0\" class=\"data row5 col0\" >0.016622</td>\n",
       "            </tr>\n",
       "            <tr>\n",
       "                        <th id=\"T_a39f37fe_a680_11eb_931c_06a657712b71level0_row6\" class=\"row_heading level0 row6\" >Vintage</th>\n",
       "                        <td id=\"T_a39f37fe_a680_11eb_931c_06a657712b71row6_col0\" class=\"data row6 col0\" >0.002064</td>\n",
       "            </tr>\n",
       "            <tr>\n",
       "                        <th id=\"T_a39f37fe_a680_11eb_931c_06a657712b71level0_row7\" class=\"row_heading level0 row7\" >Annual_Premium</th>\n",
       "                        <td id=\"T_a39f37fe_a680_11eb_931c_06a657712b71row7_col0\" class=\"data row7 col0\" >-0.009349</td>\n",
       "            </tr>\n",
       "            <tr>\n",
       "                        <th id=\"T_a39f37fe_a680_11eb_931c_06a657712b71level0_row8\" class=\"row_heading level0 row8\" >Region_Code</th>\n",
       "                        <td id=\"T_a39f37fe_a680_11eb_931c_06a657712b71row8_col0\" class=\"data row8 col0\" >-0.028235</td>\n",
       "            </tr>\n",
       "            <tr>\n",
       "                        <th id=\"T_a39f37fe_a680_11eb_931c_06a657712b71level0_row9\" class=\"row_heading level0 row9\" >Age</th>\n",
       "                        <td id=\"T_a39f37fe_a680_11eb_931c_06a657712b71row9_col0\" class=\"data row9 col0\" >-0.267534</td>\n",
       "            </tr>\n",
       "            <tr>\n",
       "                        <th id=\"T_a39f37fe_a680_11eb_931c_06a657712b71level0_row10\" class=\"row_heading level0 row10\" >Response</th>\n",
       "                        <td id=\"T_a39f37fe_a680_11eb_931c_06a657712b71row10_col0\" class=\"data row10 col0\" >-0.354400</td>\n",
       "            </tr>\n",
       "    </tbody></table>"
      ],
      "text/plain": [
       "<pandas.io.formats.style.Styler at 0xd06ed0c40>"
      ]
     },
     "execution_count": 20,
     "metadata": {},
     "output_type": "execute_result"
    }
   ],
   "source": [
    "correlation3[['Vehicle_Damage']].sort_values(by='Vehicle_Damage',ascending=False).style.background_gradient(cmap='viridis')"
   ]
  },
  {
   "cell_type": "markdown",
   "metadata": {},
   "source": [
    "Here it is quite evident that vehicle damage is highly correlated with, the feature that is that was previously insured?"
   ]
  },
  {
   "cell_type": "markdown",
   "metadata": {},
   "source": [
    "# Numerical features\n",
    "\n",
    "# 1.Age\n",
    "\n"
   ]
  },
  {
   "cell_type": "code",
   "execution_count": 21,
   "metadata": {},
   "outputs": [
    {
     "data": {
      "image/png": "[encoded data removed]",
      "text/plain": [
       "<Figure size 720x576 with 1 Axes>"
      ]
     },
     "metadata": {
      "needs_background": "light"
     },
     "output_type": "display_data"
    }
   ],
   "source": [
    "plt.figure(figsize=(10,8))\n",
    "sns.distplot(data.Age,color='red',label='Age')\n",
    "sns.distplot(data.Age[data.Response==1],color='blue')\n",
    "plt.title('Person bought health insurance Vs Age',fontdict={'fontsize':20,'fontweight':'bold'})\n",
    "plt.show()"
   ]
  },
  {
   "cell_type": "markdown",
   "metadata": {},
   "source": [
    "Age group of 40-50 have higher chance of buying the health insurance and also age distribution is skewed showing in red color and age corresponding to 1 response value means which is interested in buying insurance showing nearly normal distribution "
   ]
  },
  {
   "cell_type": "code",
   "execution_count": 22,
   "metadata": {},
   "outputs": [
    {
     "data": {
      "image/png": "[encoded data removed]",
      "text/plain": [
       "<Figure size 720x576 with 1 Axes>"
      ]
     },
     "metadata": {
      "needs_background": "light"
     },
     "output_type": "display_data"
    }
   ],
   "source": [
    "plt.figure(figsize=(10,8))\n",
    "sns.distplot(data.Age,color='red',label='Age')\n",
    "sns.distplot(data.Age[data.Response==0])\n",
    "plt.title('Person doesnot bought health insurance Vs Age',fontdict={'fontsize':20,'fontweight':'bold'})\n",
    "plt.show()"
   ]
  },
  {
   "cell_type": "markdown",
   "metadata": {},
   "source": [
    "clealy from above plot data is skewed "
   ]
  },
  {
   "cell_type": "markdown",
   "metadata": {},
   "source": [
    "# Scaling Down Age"
   ]
  },
  {
   "cell_type": "code",
   "execution_count": 23,
   "metadata": {},
   "outputs": [],
   "source": [
    "max_age=max(data.Age)\n",
    "min_age=min(data.Age)\n",
    "data.Age=data.Age.apply(lambda x: (x-min_age)/(max_age-min_age))"
   ]
  },
  {
   "cell_type": "markdown",
   "metadata": {},
   "source": [
    "normalize the age features "
   ]
  },
  {
   "cell_type": "code",
   "execution_count": 24,
   "metadata": {},
   "outputs": [
    {
     "data": {
      "text/html": [
       "<style  type=\"text/css\" >\n",
       "#T_b827dd7a_a680_11eb_b705_06a657712b71row0_col0{\n",
       "            background-color:  #f7fbff;\n",
       "            color:  #000000;\n",
       "        }#T_b827dd7a_a680_11eb_b705_06a657712b71row1_col0{\n",
       "            background-color:  #56a0ce;\n",
       "            color:  #000000;\n",
       "        }#T_b827dd7a_a680_11eb_b705_06a657712b71row2_col0{\n",
       "            background-color:  #4d99ca;\n",
       "            color:  #000000;\n",
       "        }#T_b827dd7a_a680_11eb_b705_06a657712b71row3_col0{\n",
       "            background-color:  #4896c8;\n",
       "            color:  #000000;\n",
       "        }#T_b827dd7a_a680_11eb_b705_06a657712b71row4_col0{\n",
       "            background-color:  #3f8fc5;\n",
       "            color:  #000000;\n",
       "        }#T_b827dd7a_a680_11eb_b705_06a657712b71row5_col0{\n",
       "            background-color:  #3282be;\n",
       "            color:  #000000;\n",
       "        }#T_b827dd7a_a680_11eb_b705_06a657712b71row6_col0{\n",
       "            background-color:  #2777b8;\n",
       "            color:  #000000;\n",
       "        }#T_b827dd7a_a680_11eb_b705_06a657712b71row7_col0{\n",
       "            background-color:  #1865ac;\n",
       "            color:  #f1f1f1;\n",
       "        }#T_b827dd7a_a680_11eb_b705_06a657712b71row8_col0{\n",
       "            background-color:  #1663aa;\n",
       "            color:  #f1f1f1;\n",
       "        }#T_b827dd7a_a680_11eb_b705_06a657712b71row9_col0{\n",
       "            background-color:  #083979;\n",
       "            color:  #f1f1f1;\n",
       "        }#T_b827dd7a_a680_11eb_b705_06a657712b71row10_col0{\n",
       "            background-color:  #08306b;\n",
       "            color:  #f1f1f1;\n",
       "        }</style><table id=\"T_b827dd7a_a680_11eb_b705_06a657712b71\" ><thead>    <tr>        <th class=\"blank level0\" ></th>        <th class=\"col_heading level0 col0\" >Age</th>    </tr></thead><tbody>\n",
       "                <tr>\n",
       "                        <th id=\"T_b827dd7a_a680_11eb_b705_06a657712b71level0_row0\" class=\"row_heading level0 row0\" >Age</th>\n",
       "                        <td id=\"T_b827dd7a_a680_11eb_b705_06a657712b71row0_col0\" class=\"data row0 col0\" >1.000000</td>\n",
       "            </tr>\n",
       "            <tr>\n",
       "                        <th id=\"T_b827dd7a_a680_11eb_b705_06a657712b71level0_row1\" class=\"row_heading level0 row1\" >Response</th>\n",
       "                        <td id=\"T_b827dd7a_a680_11eb_b705_06a657712b71row1_col0\" class=\"data row1 col0\" >0.111147</td>\n",
       "            </tr>\n",
       "            <tr>\n",
       "                        <th id=\"T_b827dd7a_a680_11eb_b705_06a657712b71level0_row2\" class=\"row_heading level0 row2\" >Annual_Premium</th>\n",
       "                        <td id=\"T_b827dd7a_a680_11eb_b705_06a657712b71row2_col0\" class=\"data row2 col0\" >0.067507</td>\n",
       "            </tr>\n",
       "            <tr>\n",
       "                        <th id=\"T_b827dd7a_a680_11eb_b705_06a657712b71level0_row3\" class=\"row_heading level0 row3\" >Region_Code</th>\n",
       "                        <td id=\"T_b827dd7a_a680_11eb_b705_06a657712b71row3_col0\" class=\"data row3 col0\" >0.042574</td>\n",
       "            </tr>\n",
       "            <tr>\n",
       "                        <th id=\"T_b827dd7a_a680_11eb_b705_06a657712b71level0_row4\" class=\"row_heading level0 row4\" >Vintage</th>\n",
       "                        <td id=\"T_b827dd7a_a680_11eb_b705_06a657712b71row4_col0\" class=\"data row4 col0\" >-0.001264</td>\n",
       "            </tr>\n",
       "            <tr>\n",
       "                        <th id=\"T_b827dd7a_a680_11eb_b705_06a657712b71level0_row5\" class=\"row_heading level0 row5\" >Driving_License</th>\n",
       "                        <td id=\"T_b827dd7a_a680_11eb_b705_06a657712b71row5_col0\" class=\"data row5 col0\" >-0.079782</td>\n",
       "            </tr>\n",
       "            <tr>\n",
       "                        <th id=\"T_b827dd7a_a680_11eb_b705_06a657712b71level0_row6\" class=\"row_heading level0 row6\" >Gender</th>\n",
       "                        <td id=\"T_b827dd7a_a680_11eb_b705_06a657712b71row6_col0\" class=\"data row6 col0\" >-0.145545</td>\n",
       "            </tr>\n",
       "            <tr>\n",
       "                        <th id=\"T_b827dd7a_a680_11eb_b705_06a657712b71level0_row7\" class=\"row_heading level0 row7\" >Previously_Insured</th>\n",
       "                        <td id=\"T_b827dd7a_a680_11eb_b705_06a657712b71row7_col0\" class=\"data row7 col0\" >-0.254682</td>\n",
       "            </tr>\n",
       "            <tr>\n",
       "                        <th id=\"T_b827dd7a_a680_11eb_b705_06a657712b71level0_row8\" class=\"row_heading level0 row8\" >Vehicle_Damage</th>\n",
       "                        <td id=\"T_b827dd7a_a680_11eb_b705_06a657712b71row8_col0\" class=\"data row8 col0\" >-0.267534</td>\n",
       "            </tr>\n",
       "            <tr>\n",
       "                        <th id=\"T_b827dd7a_a680_11eb_b705_06a657712b71level0_row9\" class=\"row_heading level0 row9\" >Vehicle_Age</th>\n",
       "                        <td id=\"T_b827dd7a_a680_11eb_b705_06a657712b71row9_col0\" class=\"data row9 col0\" >-0.522300</td>\n",
       "            </tr>\n",
       "            <tr>\n",
       "                        <th id=\"T_b827dd7a_a680_11eb_b705_06a657712b71level0_row10\" class=\"row_heading level0 row10\" >Policy_Sales_Channel</th>\n",
       "                        <td id=\"T_b827dd7a_a680_11eb_b705_06a657712b71row10_col0\" class=\"data row10 col0\" >-0.577826</td>\n",
       "            </tr>\n",
       "    </tbody></table>"
      ],
      "text/plain": [
       "<pandas.io.formats.style.Styler at 0xd06449ee0>"
      ]
     },
     "execution_count": 24,
     "metadata": {},
     "output_type": "execute_result"
    }
   ],
   "source": [
    "correlation=data.corr()\n",
    "correlation[['Age']].sort_values(by='Age',ascending=False).style.background_gradient(cmap='Blues_r')"
   ]
  },
  {
   "cell_type": "markdown",
   "metadata": {},
   "source": [
    "from above correlation factor is not much significance only Vehicle_Age and Policy_Sales_Channel showing negative correlation with above 0.5"
   ]
  },
  {
   "cell_type": "markdown",
   "metadata": {},
   "source": [
    "# 2. Annual premium"
   ]
  },
  {
   "cell_type": "code",
   "execution_count": 25,
   "metadata": {},
   "outputs": [
    {
     "data": {
      "image/png": "[encoded data removed]",
      "text/plain": [
       "<Figure size 720x576 with 1 Axes>"
      ]
     },
     "metadata": {
      "needs_background": "light"
     },
     "output_type": "display_data"
    }
   ],
   "source": [
    "plt.figure(figsize=(10,8))\n",
    "sns.distplot(data.Annual_Premium,color='red',label='Annual Premium')\n",
    "sns.distplot(data.Annual_Premium[data.Response==0],color='green')\n",
    "plt.title('Person doesnot bought health insurance Vs Annual premium',fontdict={'fontsize':20,'fontweight':'bold'})\n",
    "plt.show()"
   ]
  },
  {
   "cell_type": "code",
   "execution_count": 26,
   "metadata": {},
   "outputs": [],
   "source": [
    "max_premium=max(data.Annual_Premium)\n",
    "min_premium=min(data.Annual_Premium)\n",
    "data.Annual_Premium=data.Annual_Premium.apply(lambda x: (x-min_premium)/(max_premium-min_premium))"
   ]
  },
  {
   "cell_type": "code",
   "execution_count": 27,
   "metadata": {},
   "outputs": [
    {
     "data": {
      "text/html": [
       "<style  type=\"text/css\" >\n",
       "#T_cec46643_a680_11eb_b1f0_06a657712b71row0_col0{\n",
       "            background-color:  #08306b;\n",
       "            color:  #f1f1f1;\n",
       "        }#T_cec46643_a680_11eb_b1f0_06a657712b71row1_col0{\n",
       "            background-color:  #d7e6f5;\n",
       "            color:  #000000;\n",
       "        }#T_cec46643_a680_11eb_b1f0_06a657712b71row2_col0,#T_cec46643_a680_11eb_b1f0_06a657712b71row3_col0{\n",
       "            background-color:  #dfebf7;\n",
       "            color:  #000000;\n",
       "        }#T_cec46643_a680_11eb_b1f0_06a657712b71row4_col0{\n",
       "            background-color:  #e2edf8;\n",
       "            color:  #000000;\n",
       "        }#T_cec46643_a680_11eb_b1f0_06a657712b71row5_col0,#T_cec46643_a680_11eb_b1f0_06a657712b71row6_col0{\n",
       "            background-color:  #e3eef9;\n",
       "            color:  #000000;\n",
       "        }#T_cec46643_a680_11eb_b1f0_06a657712b71row7_col0,#T_cec46643_a680_11eb_b1f0_06a657712b71row8_col0,#T_cec46643_a680_11eb_b1f0_06a657712b71row9_col0{\n",
       "            background-color:  #e5eff9;\n",
       "            color:  #000000;\n",
       "        }#T_cec46643_a680_11eb_b1f0_06a657712b71row10_col0{\n",
       "            background-color:  #f7fbff;\n",
       "            color:  #000000;\n",
       "        }</style><table id=\"T_cec46643_a680_11eb_b1f0_06a657712b71\" ><thead>    <tr>        <th class=\"blank level0\" ></th>        <th class=\"col_heading level0 col0\" >Annual_Premium</th>    </tr></thead><tbody>\n",
       "                <tr>\n",
       "                        <th id=\"T_cec46643_a680_11eb_b1f0_06a657712b71level0_row0\" class=\"row_heading level0 row0\" >Annual_Premium</th>\n",
       "                        <td id=\"T_cec46643_a680_11eb_b1f0_06a657712b71row0_col0\" class=\"data row0 col0\" >1.000000</td>\n",
       "            </tr>\n",
       "            <tr>\n",
       "                        <th id=\"T_cec46643_a680_11eb_b1f0_06a657712b71level0_row1\" class=\"row_heading level0 row1\" >Age</th>\n",
       "                        <td id=\"T_cec46643_a680_11eb_b1f0_06a657712b71row1_col0\" class=\"data row1 col0\" >0.067507</td>\n",
       "            </tr>\n",
       "            <tr>\n",
       "                        <th id=\"T_cec46643_a680_11eb_b1f0_06a657712b71level0_row2\" class=\"row_heading level0 row2\" >Vehicle_Age</th>\n",
       "                        <td id=\"T_cec46643_a680_11eb_b1f0_06a657712b71row2_col0\" class=\"data row2 col0\" >0.023656</td>\n",
       "            </tr>\n",
       "            <tr>\n",
       "                        <th id=\"T_cec46643_a680_11eb_b1f0_06a657712b71level0_row3\" class=\"row_heading level0 row3\" >Response</th>\n",
       "                        <td id=\"T_cec46643_a680_11eb_b1f0_06a657712b71row3_col0\" class=\"data row3 col0\" >0.022575</td>\n",
       "            </tr>\n",
       "            <tr>\n",
       "                        <th id=\"T_cec46643_a680_11eb_b1f0_06a657712b71level0_row4\" class=\"row_heading level0 row4\" >Previously_Insured</th>\n",
       "                        <td id=\"T_cec46643_a680_11eb_b1f0_06a657712b71row4_col0\" class=\"data row4 col0\" >0.004269</td>\n",
       "            </tr>\n",
       "            <tr>\n",
       "                        <th id=\"T_cec46643_a680_11eb_b1f0_06a657712b71level0_row5\" class=\"row_heading level0 row5\" >Vintage</th>\n",
       "                        <td id=\"T_cec46643_a680_11eb_b1f0_06a657712b71row5_col0\" class=\"data row5 col0\" >-0.000608</td>\n",
       "            </tr>\n",
       "            <tr>\n",
       "                        <th id=\"T_cec46643_a680_11eb_b1f0_06a657712b71level0_row6\" class=\"row_heading level0 row6\" >Gender</th>\n",
       "                        <td id=\"T_cec46643_a680_11eb_b1f0_06a657712b71row6_col0\" class=\"data row6 col0\" >-0.003673</td>\n",
       "            </tr>\n",
       "            <tr>\n",
       "                        <th id=\"T_cec46643_a680_11eb_b1f0_06a657712b71level0_row7\" class=\"row_heading level0 row7\" >Vehicle_Damage</th>\n",
       "                        <td id=\"T_cec46643_a680_11eb_b1f0_06a657712b71row7_col0\" class=\"data row7 col0\" >-0.009349</td>\n",
       "            </tr>\n",
       "            <tr>\n",
       "                        <th id=\"T_cec46643_a680_11eb_b1f0_06a657712b71level0_row8\" class=\"row_heading level0 row8\" >Region_Code</th>\n",
       "                        <td id=\"T_cec46643_a680_11eb_b1f0_06a657712b71row8_col0\" class=\"data row8 col0\" >-0.010588</td>\n",
       "            </tr>\n",
       "            <tr>\n",
       "                        <th id=\"T_cec46643_a680_11eb_b1f0_06a657712b71level0_row9\" class=\"row_heading level0 row9\" >Driving_License</th>\n",
       "                        <td id=\"T_cec46643_a680_11eb_b1f0_06a657712b71row9_col0\" class=\"data row9 col0\" >-0.011906</td>\n",
       "            </tr>\n",
       "            <tr>\n",
       "                        <th id=\"T_cec46643_a680_11eb_b1f0_06a657712b71level0_row10\" class=\"row_heading level0 row10\" >Policy_Sales_Channel</th>\n",
       "                        <td id=\"T_cec46643_a680_11eb_b1f0_06a657712b71row10_col0\" class=\"data row10 col0\" >-0.113247</td>\n",
       "            </tr>\n",
       "    </tbody></table>"
      ],
      "text/plain": [
       "<pandas.io.formats.style.Styler at 0xd06d268e0>"
      ]
     },
     "execution_count": 27,
     "metadata": {},
     "output_type": "execute_result"
    }
   ],
   "source": [
    "correlation[['Annual_Premium']].sort_values(by='Annual_Premium',ascending=False).style.background_gradient(cmap='Blues')"
   ]
  },
  {
   "cell_type": "markdown",
   "metadata": {},
   "source": [
    "# Multivariate Analysis"
   ]
  },
  {
   "cell_type": "code",
   "execution_count": 28,
   "metadata": {},
   "outputs": [
    {
     "data": {
      "image/png": "[encoded data removed]",
      "text/plain": [
       "<Figure size 864x576 with 2 Axes>"
      ]
     },
     "metadata": {
      "needs_background": "light"
     },
     "output_type": "display_data"
    }
   ],
   "source": [
    "plt.figure(figsize=(12,8))\n",
    "sns.heatmap(data.corr(),annot=True,cmap='cool_r')\n",
    "plt.show()"
   ]
  },
  {
   "cell_type": "markdown",
   "metadata": {},
   "source": [
    "in multivariete correlation analysis only showing vehicle_damage with priviously insured having high correlation value which is 0.83"
   ]
  },
  {
   "cell_type": "markdown",
   "metadata": {},
   "source": [
    "# Resampling to solve the problem of imbalanced data"
   ]
  },
  {
   "cell_type": "code",
   "execution_count": 29,
   "metadata": {},
   "outputs": [],
   "source": [
    "import imblearn\n",
    "from collections import Counter"
   ]
  },
  {
   "cell_type": "markdown",
   "metadata": {},
   "source": [
    "# using diffrent sampling technique to do undersampling and oversampling"
   ]
  },
  {
   "cell_type": "code",
   "execution_count": 30,
   "metadata": {},
   "outputs": [
    {
     "name": "stdout",
     "output_type": "stream",
     "text": [
      "class 0: (334399, 11)\n",
      "class 1: (46710, 11)\n"
     ]
    }
   ],
   "source": [
    "# class count\n",
    "class_count_0, class_count_1 = data['Response'].value_counts()\n",
    "\n",
    "# Separate class\n",
    "class_0 = data[data['Response'] == 0]\n",
    "class_1 = data[data['Response'] == 1]# print the shape of the class\n",
    "print('class 0:', class_0.shape)\n",
    "print('class 1:', class_1.shape)"
   ]
  },
  {
   "cell_type": "code",
   "execution_count": 31,
   "metadata": {},
   "outputs": [
    {
     "name": "stdout",
     "output_type": "stream",
     "text": [
      "total class of 1 and0: 1    46710\n",
      "0    46710\n",
      "Name: Response, dtype: int64\n"
     ]
    },
    {
     "data": {
      "text/plain": [
       "<AxesSubplot:title={'center':'count (target)'}>"
      ]
     },
     "execution_count": 31,
     "metadata": {},
     "output_type": "execute_result"
    },
    {
     "data": {
      "image/png": "[encoded data removed]",
      "text/plain": [
       "<Figure size 432x288 with 1 Axes>"
      ]
     },
     "metadata": {
      "needs_background": "light"
     },
     "output_type": "display_data"
    }
   ],
   "source": [
    "class_0_under = class_0.sample(class_count_1)\n",
    "\n",
    "test_under = pd.concat([class_0_under, class_1], axis=0)\n",
    "\n",
    "print(\"total class of 1 and0:\",test_under['Response'].value_counts())# plot the count after under-sampeling\n",
    "test_under['Response'].value_counts().plot(kind='bar', title='count (target)')\n"
   ]
  },
  {
   "cell_type": "code",
   "execution_count": 32,
   "metadata": {},
   "outputs": [
    {
     "name": "stdout",
     "output_type": "stream",
     "text": [
      "total class of 1 and 0: 1    46710\n",
      "0    46710\n",
      "Name: Response, dtype: int64\n"
     ]
    },
    {
     "data": {
      "text/plain": [
       "<AxesSubplot:title={'center':'count (target)'}>"
      ]
     },
     "execution_count": 32,
     "metadata": {},
     "output_type": "execute_result"
    },
    {
     "data": {
      "image/png": "[encoded data removed]",
      "text/plain": [
       "<Figure size 432x288 with 1 Axes>"
      ]
     },
     "metadata": {
      "needs_background": "light"
     },
     "output_type": "display_data"
    }
   ],
   "source": [
    "class_1_over = class_1.sample(class_count_0, replace=True)\n",
    "\n",
    "test_over = pd.concat([class_1_over, class_0], axis=0)\n",
    "\n",
    "print(\"total class of 1 and 0:\",test_under['Response'].value_counts())# plot the count after under-sampeling\n",
    "test_over['Response'].value_counts().plot(kind='bar', title='count (target)')"
   ]
  },
  {
   "cell_type": "markdown",
   "metadata": {},
   "source": [
    "# using imblearn to do under sampling and over sampling"
   ]
  },
  {
   "cell_type": "code",
   "execution_count": 33,
   "metadata": {},
   "outputs": [
    {
     "name": "stdout",
     "output_type": "stream",
     "text": [
      "original dataset shape: Counter({0: 334399, 1: 46710})\n",
      "Resample dataset shape Counter({0: 46710, 1: 46710})\n"
     ]
    }
   ],
   "source": [
    "from imblearn.under_sampling import RandomUnderSampler\n",
    "\n",
    "rus = RandomUnderSampler(random_state=42, replacement=True)# fit predictor and target variable\n",
    "x_rus, y_rus = rus.fit_resample (data,data.Response)\n",
    "\n",
    "print('original dataset shape:', Counter(data.Response))\n",
    "print('Resample dataset shape', Counter(y_rus))\n"
   ]
  },
  {
   "cell_type": "code",
   "execution_count": 34,
   "metadata": {},
   "outputs": [
    {
     "name": "stdout",
     "output_type": "stream",
     "text": [
      "Original dataset shape Counter({0: 334399, 1: 46710})\n",
      "Resample dataset shape Counter({1: 334399, 0: 334399})\n"
     ]
    }
   ],
   "source": [
    "from imblearn.over_sampling import RandomOverSampler\n",
    "\n",
    "ros = RandomOverSampler(random_state=42)\n",
    "\n",
    "x_ros, y_ros = ros.fit_resample(data,data.Response)\n",
    "\n",
    "print('Original dataset shape', Counter(data.Response))\n",
    "print('Resample dataset shape', Counter(y_ros))"
   ]
  },
  {
   "cell_type": "markdown",
   "metadata": {},
   "source": [
    "# Using SMOTE to solve the problem of imbalanced data"
   ]
  },
  {
   "cell_type": "markdown",
   "metadata": {},
   "source": [
    "using smote method and use oversampling to balance inbalance dataset"
   ]
  },
  {
   "cell_type": "code",
   "execution_count": 35,
   "metadata": {},
   "outputs": [],
   "source": [
    "label_data=data.drop(['Response'],axis=1)\n"
   ]
  },
  {
   "cell_type": "code",
   "execution_count": 36,
   "metadata": {},
   "outputs": [
    {
     "name": "stdout",
     "output_type": "stream",
     "text": [
      "Original dataset shape Counter({0: 334399, 1: 46710})\n",
      "Resample dataset shape Counter({1: 334399, 0: 334399})\n"
     ]
    }
   ],
   "source": [
    "from imblearn.over_sampling import SMOTE\n",
    "\n",
    "smote = SMOTE()\n",
    "\n",
    "# fit predictor and target variable\n",
    "x_smote, y_smote = smote.fit_resample(label_data,data.Response)\n",
    "\n",
    "print('Original dataset shape', Counter(data.Response))\n",
    "print('Resample dataset shape', Counter(y_smote))"
   ]
  },
  {
   "cell_type": "code",
   "execution_count": 37,
   "metadata": {},
   "outputs": [],
   "source": [
    "oversample=SMOTE()\n",
    "X,y=oversample.fit_resample(data.iloc[:,:10],data.iloc[:,10])\n"
   ]
  },
  {
   "cell_type": "markdown",
   "metadata": {},
   "source": [
    "# Spliting train-test Data"
   ]
  },
  {
   "cell_type": "code",
   "execution_count": 38,
   "metadata": {},
   "outputs": [],
   "source": [
    "train_x,test_x,train_y,test_y=train_test_split(x_smote,y_smote,test_size=.1,random_state=42)"
   ]
  },
  {
   "cell_type": "markdown",
   "metadata": {},
   "source": [
    "# Model training And Evaluation¶"
   ]
  },
  {
   "cell_type": "markdown",
   "metadata": {},
   "source": [
    "in each model trainning and evalution we generate confusion matrix and also generate classification report"
   ]
  },
  {
   "cell_type": "markdown",
   "metadata": {},
   "source": [
    "# 1.Logistic Regression"
   ]
  },
  {
   "cell_type": "code",
   "execution_count": 39,
   "metadata": {},
   "outputs": [
    {
     "data": {
      "text/plain": [
       "LogisticRegression(max_iter=1000, tol=0.01)"
      ]
     },
     "execution_count": 39,
     "metadata": {},
     "output_type": "execute_result"
    }
   ],
   "source": [
    "classifier1=LogisticRegression(tol=0.01,max_iter=1000)\n",
    "classifier1.fit(train_x,train_y)"
   ]
  },
  {
   "cell_type": "code",
   "execution_count": 40,
   "metadata": {},
   "outputs": [
    {
     "data": {
      "image/png": "[encoded data removed]",
      "text/plain": [
       "<Figure size 720x432 with 2 Axes>"
      ]
     },
     "metadata": {
      "needs_background": "light"
     },
     "output_type": "display_data"
    }
   ],
   "source": [
    "pred_test_y=classifier1.predict(test_x)\n",
    "pred_train_y=classifier1.predict(train_x)\n",
    "cm2=confusion_matrix(test_y,pred_test_y)\n",
    "plt.figure(figsize=(10,6))\n",
    "sns.heatmap(cm2,annot=True,cmap='gnuplot')\n",
    "plt.title('Confusion metrices of test data',fontdict={'fontsize':18,'fontweight':'bold'})\n",
    "plt.show()"
   ]
  },
  {
   "cell_type": "code",
   "execution_count": 41,
   "metadata": {},
   "outputs": [
    {
     "name": "stdout",
     "output_type": "stream",
     "text": [
      "Classification report of train data \n",
      "               precision    recall  f1-score   support\n",
      "\n",
      "           0       0.96      0.61      0.75    301112\n",
      "           1       0.71      0.98      0.82    300806\n",
      "\n",
      "    accuracy                           0.79    601918\n",
      "   macro avg       0.84      0.79      0.79    601918\n",
      "weighted avg       0.84      0.79      0.79    601918\n",
      "\n"
     ]
    }
   ],
   "source": [
    "print('Classification report of train data \\n',classification_report(train_y,pred_train_y))"
   ]
  },
  {
   "cell_type": "code",
   "execution_count": 42,
   "metadata": {},
   "outputs": [
    {
     "name": "stdout",
     "output_type": "stream",
     "text": [
      "Classification report of test data \n",
      "               precision    recall  f1-score   support\n",
      "\n",
      "           0       0.96      0.61      0.75     33287\n",
      "           1       0.72      0.98      0.83     33593\n",
      "\n",
      "    accuracy                           0.80     66880\n",
      "   macro avg       0.84      0.79      0.79     66880\n",
      "weighted avg       0.84      0.80      0.79     66880\n",
      "\n"
     ]
    }
   ],
   "source": [
    "print('Classification report of test data \\n',classification_report(test_y,pred_test_y))"
   ]
  },
  {
   "cell_type": "markdown",
   "metadata": {},
   "source": [
    "# 2. DecisionTreeClassifier"
   ]
  },
  {
   "cell_type": "code",
   "execution_count": 43,
   "metadata": {},
   "outputs": [
    {
     "data": {
      "text/plain": [
       "GridSearchCV(estimator=DecisionTreeClassifier(max_depth=8, random_state=42),\n",
       "             param_grid={'max_depth': range(5, 8)})"
      ]
     },
     "execution_count": 43,
     "metadata": {},
     "output_type": "execute_result"
    }
   ],
   "source": [
    "from sklearn.tree import DecisionTreeClassifier\n",
    "model1=DecisionTreeClassifier(random_state=42,max_depth=8)\n",
    "grid1=GridSearchCV(model1,param_grid={'max_depth':range(5,8)})\n",
    "grid1.fit(train_x,train_y)"
   ]
  },
  {
   "cell_type": "code",
   "execution_count": 44,
   "metadata": {},
   "outputs": [
    {
     "data": {
      "text/plain": [
       "{'max_depth': 7}"
      ]
     },
     "execution_count": 44,
     "metadata": {},
     "output_type": "execute_result"
    }
   ],
   "source": [
    "grid1.best_params_"
   ]
  },
  {
   "cell_type": "code",
   "execution_count": 47,
   "metadata": {},
   "outputs": [
    {
     "data": {
      "text/plain": [
       "DecisionTreeClassifier(max_depth=7, random_state=42)"
      ]
     },
     "execution_count": 47,
     "metadata": {},
     "output_type": "execute_result"
    }
   ],
   "source": [
    "classifier2=DecisionTreeClassifier(random_state=42,max_depth=7)\n",
    "classifier2.fit(train_x,train_y)"
   ]
  },
  {
   "cell_type": "code",
   "execution_count": 48,
   "metadata": {},
   "outputs": [
    {
     "data": {
      "image/png": "[encoded data removed]",
      "text/plain": [
       "<Figure size 720x432 with 2 Axes>"
      ]
     },
     "metadata": {
      "needs_background": "light"
     },
     "output_type": "display_data"
    }
   ],
   "source": [
    "pred_test_y=classifier2.predict(test_x)\n",
    "pred_train_y=classifier2.predict(train_x)\n",
    "cm1=confusion_matrix(test_y,pred_test_y)\n",
    "plt.figure(figsize=(10,6))\n",
    "sns.heatmap(cm1,annot=True,cmap='gnuplot_r')\n",
    "plt.title('Confusion metrices of test data',fontdict={'fontsize':18,'fontweight':'bold'})\n",
    "plt.show()"
   ]
  },
  {
   "cell_type": "code",
   "execution_count": 51,
   "metadata": {},
   "outputs": [
    {
     "name": "stdout",
     "output_type": "stream",
     "text": [
      "Classification report of train data \n",
      "               precision    recall  f1-score   support\n",
      "\n",
      "           0       0.92      0.72      0.81    301112\n",
      "           1       0.77      0.94      0.85    300806\n",
      "\n",
      "    accuracy                           0.83    601918\n",
      "   macro avg       0.85      0.83      0.83    601918\n",
      "weighted avg       0.85      0.83      0.83    601918\n",
      "\n"
     ]
    }
   ],
   "source": [
    "print('Classification report of train data \\n',classification_report(train_y,pred_train_y))"
   ]
  },
  {
   "cell_type": "code",
   "execution_count": 52,
   "metadata": {},
   "outputs": [
    {
     "name": "stdout",
     "output_type": "stream",
     "text": [
      "Classification report of test data \n",
      "               precision    recall  f1-score   support\n",
      "\n",
      "           0       0.92      0.72      0.81     33287\n",
      "           1       0.77      0.94      0.85     33593\n",
      "\n",
      "    accuracy                           0.83     66880\n",
      "   macro avg       0.85      0.83      0.83     66880\n",
      "weighted avg       0.85      0.83      0.83     66880\n",
      "\n"
     ]
    }
   ],
   "source": [
    "print('Classification report of test data \\n',classification_report(test_y,pred_test_y))"
   ]
  },
  {
   "cell_type": "markdown",
   "metadata": {},
   "source": [
    "# 3. KNN Classifier"
   ]
  },
  {
   "cell_type": "code",
   "execution_count": 40,
   "metadata": {},
   "outputs": [
    {
     "data": {
      "text/plain": [
       "KNeighborsClassifier(n_neighbors=100)"
      ]
     },
     "execution_count": 40,
     "metadata": {},
     "output_type": "execute_result"
    }
   ],
   "source": [
    "classifier3=KNeighborsClassifier(n_neighbors=100)\n",
    "classifier3.fit(train_x,train_y)"
   ]
  },
  {
   "cell_type": "code",
   "execution_count": 41,
   "metadata": {},
   "outputs": [
    {
     "data": {
      "image/png": "[encoded data removed]",
      "text/plain": [
       "<Figure size 720x432 with 2 Axes>"
      ]
     },
     "metadata": {
      "needs_background": "light"
     },
     "output_type": "display_data"
    }
   ],
   "source": [
    "pred_test_y=classifier3.predict(test_x)\n",
    "pred_train_y=classifier3.predict(train_x)\n",
    "cm2=confusion_matrix(test_y,pred_test_y)\n",
    "plt.figure(figsize=(10,6))\n",
    "sns.heatmap(cm2,annot=True,cmap='RdYlGn')\n",
    "plt.title('Confusion metrices of test data',fontdict={'fontsize':18,'fontweight':'bold'})\n",
    "plt.show()"
   ]
  },
  {
   "cell_type": "code",
   "execution_count": 42,
   "metadata": {},
   "outputs": [
    {
     "name": "stdout",
     "output_type": "stream",
     "text": [
      "Classification report of train data \n",
      "               precision    recall  f1-score   support\n",
      "\n",
      "           0       0.83      0.61      0.70    301112\n",
      "           1       0.69      0.88      0.77    300806\n",
      "\n",
      "    accuracy                           0.74    601918\n",
      "   macro avg       0.76      0.74      0.74    601918\n",
      "weighted avg       0.76      0.74      0.74    601918\n",
      "\n"
     ]
    }
   ],
   "source": [
    "print('Classification report of train data \\n',classification_report(train_y,pred_train_y))"
   ]
  },
  {
   "cell_type": "code",
   "execution_count": 43,
   "metadata": {},
   "outputs": [
    {
     "name": "stdout",
     "output_type": "stream",
     "text": [
      "Classification report of test data \n",
      "               precision    recall  f1-score   support\n",
      "\n",
      "           0       0.82      0.61      0.70     33287\n",
      "           1       0.69      0.87      0.77     33593\n",
      "\n",
      "    accuracy                           0.74     66880\n",
      "   macro avg       0.76      0.74      0.73     66880\n",
      "weighted avg       0.76      0.74      0.73     66880\n",
      "\n"
     ]
    }
   ],
   "source": [
    "print('Classification report of test data \\n',classification_report(test_y,pred_test_y))"
   ]
  },
  {
   "cell_type": "markdown",
   "metadata": {},
   "source": [
    "# 4.RandomForestClassifier"
   ]
  },
  {
   "cell_type": "code",
   "execution_count": 44,
   "metadata": {},
   "outputs": [
    {
     "data": {
      "text/plain": [
       "RandomForestClassifier(max_depth=6, random_state=42)"
      ]
     },
     "execution_count": 44,
     "metadata": {},
     "output_type": "execute_result"
    }
   ],
   "source": [
    "classifier4=RandomForestClassifier(random_state=42,max_depth=6)\n",
    "classifier4.fit(train_x,train_y)"
   ]
  },
  {
   "cell_type": "code",
   "execution_count": 45,
   "metadata": {},
   "outputs": [
    {
     "data": {
      "image/png": "[encoded data removed]",
      "text/plain": [
       "<Figure size 720x432 with 2 Axes>"
      ]
     },
     "metadata": {
      "needs_background": "light"
     },
     "output_type": "display_data"
    }
   ],
   "source": [
    "pred_test_y=classifier4.predict(test_x)\n",
    "pred_train_y=classifier4.predict(train_x)\n",
    "cm2=confusion_matrix(test_y,pred_test_y)\n",
    "plt.figure(figsize=(10,6))\n",
    "sns.heatmap(cm2,annot=True,cmap='gnuplot')\n",
    "plt.title('Confusion metrices of test data',fontdict={'fontsize':18,'fontweight':'bold'})\n",
    "plt.show()"
   ]
  },
  {
   "cell_type": "code",
   "execution_count": 46,
   "metadata": {},
   "outputs": [
    {
     "name": "stdout",
     "output_type": "stream",
     "text": [
      "Classification report of train data \n",
      "               precision    recall  f1-score   support\n",
      "\n",
      "           0       0.96      0.68      0.80    301112\n",
      "           1       0.75      0.97      0.85    300806\n",
      "\n",
      "    accuracy                           0.83    601918\n",
      "   macro avg       0.85      0.83      0.82    601918\n",
      "weighted avg       0.85      0.83      0.82    601918\n",
      "\n"
     ]
    }
   ],
   "source": [
    "print('Classification report of train data \\n',classification_report(train_y,pred_train_y))"
   ]
  },
  {
   "cell_type": "code",
   "execution_count": 47,
   "metadata": {},
   "outputs": [
    {
     "name": "stdout",
     "output_type": "stream",
     "text": [
      "Classification report of train data \n",
      "               precision    recall  f1-score   support\n",
      "\n",
      "           0       0.96      0.69      0.80     33287\n",
      "           1       0.76      0.97      0.85     33593\n",
      "\n",
      "    accuracy                           0.83     66880\n",
      "   macro avg       0.86      0.83      0.82     66880\n",
      "weighted avg       0.86      0.83      0.82     66880\n",
      "\n"
     ]
    }
   ],
   "source": [
    "print('Classification report of train data \\n',classification_report(test_y,pred_test_y))"
   ]
  },
  {
   "cell_type": "markdown",
   "metadata": {},
   "source": [
    "# 5.XGBoostClassifier\n"
   ]
  },
  {
   "cell_type": "code",
   "execution_count": 48,
   "metadata": {},
   "outputs": [
    {
     "name": "stdout",
     "output_type": "stream",
     "text": [
      "[04:39:43] WARNING: C:/Users/Administrator/workspace/xgboost-win64_release_1.3.0/src/learner.cc:1061: Starting in XGBoost 1.3.0, the default evaluation metric used with the objective 'binary:logistic' was changed from 'error' to 'logloss'. Explicitly set eval_metric if you'd like to restore the old behavior.\n"
     ]
    },
    {
     "data": {
      "text/plain": [
       "XGBClassifier(base_score=0.5, booster='gbtree', colsample_bylevel=1,\n",
       "              colsample_bynode=1, colsample_bytree=1, gamma=0, gpu_id=-1,\n",
       "              importance_type='gain', interaction_constraints='',\n",
       "              learning_rate=0.300000012, max_delta_step=0, max_depth=6,\n",
       "              min_child_weight=1, missing=nan, monotone_constraints='()',\n",
       "              n_estimators=100, n_jobs=4, num_parallel_tree=1, random_state=0,\n",
       "              reg_alpha=0, reg_lambda=1, scale_pos_weight=1, subsample=1,\n",
       "              tree_method='exact', validate_parameters=1, verbosity=None)"
      ]
     },
     "execution_count": 48,
     "metadata": {},
     "output_type": "execute_result"
    }
   ],
   "source": [
    "classifier5=XGBClassifier()\n",
    "classifier5.fit(train_x,train_y)"
   ]
  },
  {
   "cell_type": "code",
   "execution_count": 49,
   "metadata": {},
   "outputs": [
    {
     "data": {
      "image/png": "[encoded data removed]",
      "text/plain": [
       "<Figure size 720x432 with 2 Axes>"
      ]
     },
     "metadata": {
      "needs_background": "light"
     },
     "output_type": "display_data"
    }
   ],
   "source": [
    "pred_test_y=classifier5.predict(test_x)\n",
    "pred_train_y=classifier5.predict(train_x)\n",
    "cm2=confusion_matrix(test_y,pred_test_y)\n",
    "plt.figure(figsize=(10,6))\n",
    "sns.heatmap(cm2,annot=True,cmap='RdYlGn')\n",
    "plt.title('Confusion metrices of test data',fontdict={'fontsize':18,'fontweight':'bold'})\n",
    "plt.show()"
   ]
  },
  {
   "cell_type": "code",
   "execution_count": 50,
   "metadata": {},
   "outputs": [
    {
     "name": "stdout",
     "output_type": "stream",
     "text": [
      "Classification report of train data \n",
      "               precision    recall  f1-score   support\n",
      "\n",
      "           0       0.88      0.96      0.92    301112\n",
      "           1       0.95      0.87      0.91    300806\n",
      "\n",
      "    accuracy                           0.92    601918\n",
      "   macro avg       0.92      0.92      0.92    601918\n",
      "weighted avg       0.92      0.92      0.92    601918\n",
      "\n"
     ]
    }
   ],
   "source": [
    "print('Classification report of train data \\n',classification_report(train_y,pred_train_y))"
   ]
  },
  {
   "cell_type": "code",
   "execution_count": 51,
   "metadata": {},
   "outputs": [
    {
     "name": "stdout",
     "output_type": "stream",
     "text": [
      "Classification report of test data \n",
      "               precision    recall  f1-score   support\n",
      "\n",
      "           0       0.88      0.96      0.92     33287\n",
      "           1       0.95      0.87      0.91     33593\n",
      "\n",
      "    accuracy                           0.91     66880\n",
      "   macro avg       0.92      0.91      0.91     66880\n",
      "weighted avg       0.92      0.91      0.91     66880\n",
      "\n"
     ]
    }
   ],
   "source": [
    "print('Classification report of test data \\n',classification_report(test_y,pred_test_y))"
   ]
  },
  {
   "cell_type": "markdown",
   "metadata": {},
   "source": [
    "# 6.GradientBoosting Classifier"
   ]
  },
  {
   "cell_type": "code",
   "execution_count": 52,
   "metadata": {},
   "outputs": [
    {
     "data": {
      "text/plain": [
       "GradientBoostingClassifier(random_state=42)"
      ]
     },
     "execution_count": 52,
     "metadata": {},
     "output_type": "execute_result"
    }
   ],
   "source": [
    "classifier6=GradientBoostingClassifier(random_state=42)\n",
    "classifier6.fit(train_x,train_y)"
   ]
  },
  {
   "cell_type": "code",
   "execution_count": 53,
   "metadata": {},
   "outputs": [
    {
     "data": {
      "image/png": "[encoded data removed]",
      "text/plain": [
       "<Figure size 720x432 with 2 Axes>"
      ]
     },
     "metadata": {
      "needs_background": "light"
     },
     "output_type": "display_data"
    }
   ],
   "source": [
    "pred_test_y=classifier6.predict(test_x)\n",
    "pred_train_y=classifier6.predict(train_x)\n",
    "cm2=confusion_matrix(test_y,pred_test_y)\n",
    "plt.figure(figsize=(10,6))\n",
    "sns.heatmap(cm2,annot=True,cmap='RdYlGn')\n",
    "plt.title('Confusion metrices of test data',fontdict={'fontsize':18,'fontweight':'bold'})\n",
    "plt.show()"
   ]
  },
  {
   "cell_type": "code",
   "execution_count": 54,
   "metadata": {},
   "outputs": [
    {
     "name": "stdout",
     "output_type": "stream",
     "text": [
      "Classification report of train data \n",
      "               precision    recall  f1-score   support\n",
      "\n",
      "           0       0.93      0.74      0.82    301112\n",
      "           1       0.78      0.95      0.86    300806\n",
      "\n",
      "    accuracy                           0.84    601918\n",
      "   macro avg       0.86      0.84      0.84    601918\n",
      "weighted avg       0.86      0.84      0.84    601918\n",
      "\n"
     ]
    }
   ],
   "source": [
    "print('Classification report of train data \\n',classification_report(train_y,pred_train_y))"
   ]
  },
  {
   "cell_type": "code",
   "execution_count": 55,
   "metadata": {},
   "outputs": [
    {
     "name": "stdout",
     "output_type": "stream",
     "text": [
      "Classification report of test data \n",
      "               precision    recall  f1-score   support\n",
      "\n",
      "           0       0.93      0.74      0.83     33287\n",
      "           1       0.79      0.95      0.86     33593\n",
      "\n",
      "    accuracy                           0.84     66880\n",
      "   macro avg       0.86      0.84      0.84     66880\n",
      "weighted avg       0.86      0.84      0.84     66880\n",
      "\n"
     ]
    }
   ],
   "source": [
    "print('Classification report of test data \\n',classification_report(test_y,pred_test_y))"
   ]
  },
  {
   "cell_type": "markdown",
   "metadata": {},
   "source": [
    "# 7. CategoricalNB"
   ]
  },
  {
   "cell_type": "code",
   "execution_count": 56,
   "metadata": {},
   "outputs": [
    {
     "data": {
      "text/plain": [
       "CategoricalNB()"
      ]
     },
     "execution_count": 56,
     "metadata": {},
     "output_type": "execute_result"
    }
   ],
   "source": [
    "classifier7=CategoricalNB()\n",
    "classifier7.fit(train_x,train_y)"
   ]
  },
  {
   "cell_type": "code",
   "execution_count": 57,
   "metadata": {},
   "outputs": [
    {
     "data": {
      "image/png": "[encoded data removed]",
      "text/plain": [
       "<Figure size 720x432 with 2 Axes>"
      ]
     },
     "metadata": {
      "needs_background": "light"
     },
     "output_type": "display_data"
    }
   ],
   "source": [
    "pred_test_y=classifier7.predict(test_x)\n",
    "pred_train_y=classifier7.predict(train_x)\n",
    "cm2=confusion_matrix(test_y,pred_test_y)\n",
    "plt.figure(figsize=(10,6))\n",
    "sns.heatmap(cm2,annot=True,cmap='gist_heat')\n",
    "plt.title('Confusion metrices of test data',fontdict={'fontsize':18,'fontweight':'bold'})\n",
    "plt.show()"
   ]
  },
  {
   "cell_type": "code",
   "execution_count": 58,
   "metadata": {},
   "outputs": [
    {
     "name": "stdout",
     "output_type": "stream",
     "text": [
      "Classification report of train data \n",
      "               precision    recall  f1-score   support\n",
      "\n",
      "           0       0.89      0.69      0.78    301112\n",
      "           1       0.75      0.91      0.82    300806\n",
      "\n",
      "    accuracy                           0.80    601918\n",
      "   macro avg       0.82      0.80      0.80    601918\n",
      "weighted avg       0.82      0.80      0.80    601918\n",
      "\n"
     ]
    }
   ],
   "source": [
    "print('Classification report of train data \\n',classification_report(train_y,pred_train_y))"
   ]
  },
  {
   "cell_type": "code",
   "execution_count": 59,
   "metadata": {},
   "outputs": [
    {
     "name": "stdout",
     "output_type": "stream",
     "text": [
      "Classification report of test data \n",
      "               precision    recall  f1-score   support\n",
      "\n",
      "           0       0.89      0.69      0.78     33287\n",
      "           1       0.75      0.91      0.82     33593\n",
      "\n",
      "    accuracy                           0.80     66880\n",
      "   macro avg       0.82      0.80      0.80     66880\n",
      "weighted avg       0.82      0.80      0.80     66880\n",
      "\n"
     ]
    }
   ],
   "source": [
    "print('Classification report of test data \\n',classification_report(test_y,pred_test_y))"
   ]
  },
  {
   "cell_type": "markdown",
   "metadata": {},
   "source": [
    "# 8. LinearSVC"
   ]
  },
  {
   "cell_type": "code",
   "execution_count": 60,
   "metadata": {},
   "outputs": [
    {
     "data": {
      "text/plain": [
       "LinearSVC()"
      ]
     },
     "execution_count": 60,
     "metadata": {},
     "output_type": "execute_result"
    }
   ],
   "source": [
    "classifier8=LinearSVC()\n",
    "classifier8.fit(train_x,train_y)"
   ]
  },
  {
   "cell_type": "code",
   "execution_count": 61,
   "metadata": {},
   "outputs": [
    {
     "data": {
      "image/png": "[encoded data removed]",
      "text/plain": [
       "<Figure size 720x432 with 2 Axes>"
      ]
     },
     "metadata": {
      "needs_background": "light"
     },
     "output_type": "display_data"
    }
   ],
   "source": [
    "pred_test_y=classifier8.predict(test_x)\n",
    "pred_train_y=classifier8.predict(train_x)\n",
    "cm2=confusion_matrix(test_y,pred_test_y)\n",
    "plt.figure(figsize=(10,6))\n",
    "sns.heatmap(cm2,annot=True,cmap='gist_heat')\n",
    "plt.title('Confusion metrices of test data',fontdict={'fontsize':18,'fontweight':'bold'})\n",
    "plt.show()"
   ]
  },
  {
   "cell_type": "code",
   "execution_count": 62,
   "metadata": {},
   "outputs": [
    {
     "name": "stdout",
     "output_type": "stream",
     "text": [
      "Classification report of train data \n",
      "               precision    recall  f1-score   support\n",
      "\n",
      "           0       0.55      0.92      0.69    301112\n",
      "           1       0.75      0.24      0.37    300806\n",
      "\n",
      "    accuracy                           0.58    601918\n",
      "   macro avg       0.65      0.58      0.53    601918\n",
      "weighted avg       0.65      0.58      0.53    601918\n",
      "\n"
     ]
    }
   ],
   "source": [
    "print('Classification report of train data \\n',classification_report(train_y,pred_train_y))"
   ]
  },
  {
   "cell_type": "code",
   "execution_count": 63,
   "metadata": {},
   "outputs": [
    {
     "name": "stdout",
     "output_type": "stream",
     "text": [
      "Classification report of test data \n",
      "               precision    recall  f1-score   support\n",
      "\n",
      "           0       0.55      0.92      0.68     33287\n",
      "           1       0.75      0.24      0.37     33593\n",
      "\n",
      "    accuracy                           0.58     66880\n",
      "   macro avg       0.65      0.58      0.52     66880\n",
      "weighted avg       0.65      0.58      0.52     66880\n",
      "\n"
     ]
    }
   ],
   "source": [
    "print('Classification report of test data \\n',classification_report(test_y,pred_test_y))"
   ]
  },
  {
   "cell_type": "code",
   "execution_count": null,
   "metadata": {},
   "outputs": [],
   "source": [
    "from sklearn.svm import SVC\n",
    "\n",
    "# The hyperparameter coef0 controls how much the model is influenced by high degree ploynomials \n",
    "model = SVC(kernel='poly', degree=2, gamma='auto', coef0=1, C=5)\n",
    "model.fit(train_x, train_y)\n",
    "\n",
    "print_score(model, train_x, train_y, test_x, test_y, train=True)\n",
    "print_score(model, train_x, train_y, test_x, test_y, train=False)"
   ]
  },
  {
   "cell_type": "code",
   "execution_count": null,
   "metadata": {},
   "outputs": [],
   "source": []
  },
  {
   "cell_type": "markdown",
   "metadata": {},
   "source": [
    "# Conclusion"
   ]
  },
  {
   "cell_type": "markdown",
   "metadata": {},
   "source": [
    "From the above analysis it is quite evidient that XGBoostClassifier works better than other algoriths. With test accuracy of about 91%\n"
   ]
  },
  {
   "cell_type": "code",
   "execution_count": null,
   "metadata": {},
   "outputs": [],
   "source": []
  },
  {
   "cell_type": "code",
   "execution_count": null,
   "metadata": {},
   "outputs": [],
   "source": []
  }
 ],
 "metadata": {
  "kernelspec": {
   "display_name": "Python 3",
   "language": "python",
   "name": "python3"
  },
  "language_info": {
   "codemirror_mode": {
    "name": "ipython",
    "version": 3
   },
   "file_extension": ".py",
   "mimetype": "text/x-python",
   "name": "python",
   "nbconvert_exporter": "python",
   "pygments_lexer": "ipython3",
   "version": "3.8.5"
  }
 },
 "nbformat": 4,
 "nbformat_minor": 4
}
